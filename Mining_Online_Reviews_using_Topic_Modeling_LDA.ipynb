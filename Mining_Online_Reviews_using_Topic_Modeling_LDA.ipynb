{
 "cells": [
  {
   "cell_type": "code",
   "execution_count": 1,
   "metadata": {
    "colab": {
     "base_uri": "https://localhost:8080/",
     "height": 1063
    },
    "colab_type": "code",
    "id": "U32BHTBUq7D6",
    "outputId": "6f2ba14c-1484-4a32-e02e-0cc4106fed82"
   },
   "outputs": [],
   "source": [
    "# !pip install PyDrive\n",
    "# !pip install gensim\n",
    "# !pip install pyldavis\n",
    "# !python -m spacy download en\n",
    "# !pip install nltk"
   ]
  },
  {
   "cell_type": "code",
   "execution_count": 3,
   "metadata": {
    "colab": {
     "base_uri": "https://localhost:8080/",
     "height": 71
    },
    "colab_type": "code",
    "id": "z3LQhDUitB_I",
    "outputId": "be88b89d-e4fe-4371-fb8b-c9c030169fe9"
   },
   "outputs": [
    {
     "name": "stderr",
     "output_type": "stream",
     "text": [
      "[nltk_data] Downloading package stopwords to\n",
      "[nltk_data]     C:\\Users\\lijiaxiang\\AppData\\Roaming\\nltk_data...\n",
      "[nltk_data]   Package stopwords is already up-to-date!\n"
     ]
    },
    {
     "data": {
      "text/plain": [
       "True"
      ]
     },
     "execution_count": 3,
     "metadata": {},
     "output_type": "execute_result"
    }
   ],
   "source": [
    "import os\n",
    "from pydrive.auth import GoogleAuth\n",
    "from pydrive.drive import GoogleDrive\n",
    "# from google.colab import auth\n",
    "from oauth2client.client import GoogleCredentials\n",
    "import nltk\n",
    "from nltk import FreqDist\n",
    "nltk.download('stopwords')"
   ]
  },
  {
   "cell_type": "code",
   "execution_count": 4,
   "metadata": {
    "colab": {},
    "colab_type": "code",
    "id": "UVOx_UHJtHlf"
   },
   "outputs": [],
   "source": [
    "# auth.authenticate_user()\n",
    "# gauth = GoogleAuth()\n",
    "# gauth.credentials = GoogleCredentials.get_application_default()\n",
    "# drive = GoogleDrive(gauth)"
   ]
  },
  {
   "cell_type": "code",
   "execution_count": 5,
   "metadata": {
    "colab": {},
    "colab_type": "code",
    "id": "OKXm0rrnt1j4"
   },
   "outputs": [],
   "source": [
    "# download = drive.CreateFile({'id': '1-a2dbUDDHsmkWOXoDYvgvCa8WBkEMzbr'})"
   ]
  },
  {
   "cell_type": "code",
   "execution_count": 6,
   "metadata": {
    "colab": {
     "base_uri": "https://localhost:8080/",
     "height": 35
    },
    "colab_type": "code",
    "id": "TeAxx6Btuf-m",
    "outputId": "dbcf73e3-661b-40fd-a475-d57b4bd36df4"
   },
   "outputs": [],
   "source": [
    "# ls"
   ]
  },
  {
   "cell_type": "code",
   "execution_count": 7,
   "metadata": {
    "colab": {},
    "colab_type": "code",
    "id": "1mR48mvAuYqP"
   },
   "outputs": [],
   "source": [
    "# download.GetContentFile('automotive_rev_json.gz')"
   ]
  },
  {
   "cell_type": "code",
   "execution_count": 8,
   "metadata": {
    "colab": {},
    "colab_type": "code",
    "id": "v7ftghxl_SzE"
   },
   "outputs": [],
   "source": [
    "import pandas as pd\n",
    "pd.set_option(\"display.max_colwidth\", 200)\n",
    "import numpy as np\n",
    "import json\n",
    "import re\n",
    "import gzip\n",
    "import spacy\n",
    "\n",
    "import gensim\n",
    "from gensim import corpora\n",
    "\n",
    "import pyLDAvis\n",
    "import pyLDAvis.gensim\n",
    "import matplotlib.pyplot as plt\n",
    "import seaborn as sns\n",
    "%matplotlib inline"
   ]
  },
  {
   "cell_type": "code",
   "execution_count": 9,
   "metadata": {
    "colab": {},
    "colab_type": "code",
    "id": "k-_gLizownvx"
   },
   "outputs": [],
   "source": [
    "def parse(path):\n",
    "  g = gzip.open(path, 'rb')\n",
    "  for l in g:\n",
    "    yield eval(l)\n",
    "    \n",
    "def getDF(path):\n",
    "  i = 0\n",
    "  df = {}\n",
    "  for d in parse(path):\n",
    "    df[i] = d\n",
    "    i += 1\n",
    "  return pd.DataFrame.from_dict(df, orient='index')"
   ]
  },
  {
   "cell_type": "code",
   "execution_count": 10,
   "metadata": {
    "colab": {
     "base_uri": "https://localhost:8080/",
     "height": 35
    },
    "colab_type": "code",
    "id": "FPle7KMpCVuc",
    "outputId": "0e836477-df77-4f96-8df5-3319afddfb50"
   },
   "outputs": [
    {
     "data": {
      "text/plain": [
       "(20473, 9)"
      ]
     },
     "execution_count": 10,
     "metadata": {},
     "output_type": "execute_result"
    }
   ],
   "source": [
    "df = getDF('reviews_Automotive_5.json.gz')\n",
    "df.shape"
   ]
  },
  {
   "cell_type": "code",
   "execution_count": 11,
   "metadata": {
    "colab": {
     "base_uri": "https://localhost:8080/",
     "height": 459
    },
    "colab_type": "code",
    "id": "17zMP_rlEnCo",
    "outputId": "7f4dcd45-133b-49a5-b5fe-7f85e8d741b6"
   },
   "outputs": [
    {
     "data": {
      "text/html": [
       "<div>\n",
       "<style scoped>\n",
       "    .dataframe tbody tr th:only-of-type {\n",
       "        vertical-align: middle;\n",
       "    }\n",
       "\n",
       "    .dataframe tbody tr th {\n",
       "        vertical-align: top;\n",
       "    }\n",
       "\n",
       "    .dataframe thead th {\n",
       "        text-align: right;\n",
       "    }\n",
       "</style>\n",
       "<table border=\"1\" class=\"dataframe\">\n",
       "  <thead>\n",
       "    <tr style=\"text-align: right;\">\n",
       "      <th></th>\n",
       "      <th>reviewerID</th>\n",
       "      <th>asin</th>\n",
       "      <th>reviewerName</th>\n",
       "      <th>helpful</th>\n",
       "      <th>reviewText</th>\n",
       "      <th>overall</th>\n",
       "      <th>summary</th>\n",
       "      <th>unixReviewTime</th>\n",
       "      <th>reviewTime</th>\n",
       "    </tr>\n",
       "  </thead>\n",
       "  <tbody>\n",
       "    <tr>\n",
       "      <th>0</th>\n",
       "      <td>A3F73SC1LY51OO</td>\n",
       "      <td>B00002243X</td>\n",
       "      <td>Alan Montgomery</td>\n",
       "      <td>[4, 4]</td>\n",
       "      <td>I needed a set of jumper cables for my new car and these had good reviews and were at a good price.  They have been used a few times already and do what they are supposed to - no complaints there....</td>\n",
       "      <td>5.0</td>\n",
       "      <td>Work Well - Should Have Bought Longer Ones</td>\n",
       "      <td>1313539200</td>\n",
       "      <td>08 17, 2011</td>\n",
       "    </tr>\n",
       "    <tr>\n",
       "      <th>1</th>\n",
       "      <td>A20S66SKYXULG2</td>\n",
       "      <td>B00002243X</td>\n",
       "      <td>alphonse</td>\n",
       "      <td>[1, 1]</td>\n",
       "      <td>These long cables work fine for my truck, but the quality seems a little on the shabby side. For the money I was not expecting 200 dollar snap-on jumper cables but these seem more like what you wo...</td>\n",
       "      <td>4.0</td>\n",
       "      <td>Okay long cables</td>\n",
       "      <td>1315094400</td>\n",
       "      <td>09 4, 2011</td>\n",
       "    </tr>\n",
       "    <tr>\n",
       "      <th>2</th>\n",
       "      <td>A2I8LFSN2IS5EO</td>\n",
       "      <td>B00002243X</td>\n",
       "      <td>Chris</td>\n",
       "      <td>[0, 0]</td>\n",
       "      <td>Can't comment much on these since they have not yet been used (I will come back and update my review is I find any issues after first use) ... but they are built solid, nice tough big hard clamps ...</td>\n",
       "      <td>5.0</td>\n",
       "      <td>Looks and feels heavy Duty</td>\n",
       "      <td>1374710400</td>\n",
       "      <td>07 25, 2013</td>\n",
       "    </tr>\n",
       "    <tr>\n",
       "      <th>3</th>\n",
       "      <td>A3GT2EWQSO45ZG</td>\n",
       "      <td>B00002243X</td>\n",
       "      <td>DeusEx</td>\n",
       "      <td>[19, 19]</td>\n",
       "      <td>I absolutley love Amazon!!!  For the price of a set of cheap Booster/Jumper Cables in a brick and morter store, you can buy extra long and heavy duty jumpers!  First off, don't be the person that ...</td>\n",
       "      <td>5.0</td>\n",
       "      <td>Excellent choice for Jumper Cables!!!</td>\n",
       "      <td>1292889600</td>\n",
       "      <td>12 21, 2010</td>\n",
       "    </tr>\n",
       "    <tr>\n",
       "      <th>4</th>\n",
       "      <td>A3ESWJPAVRPWB4</td>\n",
       "      <td>B00002243X</td>\n",
       "      <td>E. Hernandez</td>\n",
       "      <td>[0, 0]</td>\n",
       "      <td>I purchased the 12' feet long cable set and they arrived in a retail cardboard box with handle, which could be used as a storage and carrying case for these cables, although I will not need to sto...</td>\n",
       "      <td>5.0</td>\n",
       "      <td>Excellent, High Quality Starter Cables</td>\n",
       "      <td>1341360000</td>\n",
       "      <td>07 4, 2012</td>\n",
       "    </tr>\n",
       "  </tbody>\n",
       "</table>\n",
       "</div>"
      ],
      "text/plain": [
       "       reviewerID        asin     reviewerName   helpful  \\\n",
       "0  A3F73SC1LY51OO  B00002243X  Alan Montgomery    [4, 4]   \n",
       "1  A20S66SKYXULG2  B00002243X         alphonse    [1, 1]   \n",
       "2  A2I8LFSN2IS5EO  B00002243X            Chris    [0, 0]   \n",
       "3  A3GT2EWQSO45ZG  B00002243X           DeusEx  [19, 19]   \n",
       "4  A3ESWJPAVRPWB4  B00002243X     E. Hernandez    [0, 0]   \n",
       "\n",
       "                                                                                                                                                                                                reviewText  \\\n",
       "0  I needed a set of jumper cables for my new car and these had good reviews and were at a good price.  They have been used a few times already and do what they are supposed to - no complaints there....   \n",
       "1  These long cables work fine for my truck, but the quality seems a little on the shabby side. For the money I was not expecting 200 dollar snap-on jumper cables but these seem more like what you wo...   \n",
       "2  Can't comment much on these since they have not yet been used (I will come back and update my review is I find any issues after first use) ... but they are built solid, nice tough big hard clamps ...   \n",
       "3  I absolutley love Amazon!!!  For the price of a set of cheap Booster/Jumper Cables in a brick and morter store, you can buy extra long and heavy duty jumpers!  First off, don't be the person that ...   \n",
       "4  I purchased the 12' feet long cable set and they arrived in a retail cardboard box with handle, which could be used as a storage and carrying case for these cables, although I will not need to sto...   \n",
       "\n",
       "   overall                                     summary  unixReviewTime  \\\n",
       "0      5.0  Work Well - Should Have Bought Longer Ones      1313539200   \n",
       "1      4.0                            Okay long cables      1315094400   \n",
       "2      5.0                  Looks and feels heavy Duty      1374710400   \n",
       "3      5.0       Excellent choice for Jumper Cables!!!      1292889600   \n",
       "4      5.0      Excellent, High Quality Starter Cables      1341360000   \n",
       "\n",
       "    reviewTime  \n",
       "0  08 17, 2011  \n",
       "1   09 4, 2011  \n",
       "2  07 25, 2013  \n",
       "3  12 21, 2010  \n",
       "4   07 4, 2012  "
      ]
     },
     "execution_count": 11,
     "metadata": {},
     "output_type": "execute_result"
    }
   ],
   "source": [
    "df.head()"
   ]
  },
  {
   "cell_type": "code",
   "execution_count": 12,
   "metadata": {
    "colab": {},
    "colab_type": "code",
    "id": "jjLyeSxg41OQ"
   },
   "outputs": [],
   "source": [
    "def freq_words(x, terms = 30):\n",
    "    all_words = ' '.join([text for text in x])\n",
    "    all_words = all_words.split()\n",
    "\n",
    "    fdist = FreqDist(all_words)\n",
    "    words_df = pd.DataFrame({'word':list(fdist.keys()), 'count':list(fdist.values())})\n",
    "\n",
    "    # selecting top 20 most frequent words\n",
    "    d = words_df.nlargest(columns=\"count\", n = terms) \n",
    "    plt.figure(figsize=(20,5))\n",
    "    ax = sns.barplot(data=d, x= \"word\", y = \"count\")\n",
    "    ax.set(ylabel = 'Count')\n",
    "    plt.show()"
   ]
  },
  {
   "cell_type": "code",
   "execution_count": 13,
   "metadata": {
    "colab": {
     "base_uri": "https://localhost:8080/",
     "height": 426
    },
    "colab_type": "code",
    "id": "pennLlyl5Whp",
    "outputId": "057ab4de-0c87-4d9a-edf8-7a4bbc7e8949"
   },
   "outputs": [
    {
     "data": {
      "image/png": "[encoded data removed]",
      "text/plain": [
       "<Figure size 1440x360 with 1 Axes>"
      ]
     },
     "metadata": {
      "needs_background": "light"
     },
     "output_type": "display_data"
    }
   ],
   "source": [
    "freq_words(df['reviewText'])"
   ]
  },
  {
   "cell_type": "code",
   "execution_count": 14,
   "metadata": {
    "colab": {},
    "colab_type": "code",
    "id": "jUc1_gTcLfYt"
   },
   "outputs": [],
   "source": [
    "# replace \"n't\" with \" not\"\n",
    "df['reviewText'] = df['reviewText'].str.replace(\"n\\'t\", \" not\")\n",
    "\n",
    "# remove unwanted characters, numbers and symbols\n",
    "df['reviewText'] = df['reviewText'].str.replace(\"[^a-zA-Z#]\", \" \")"
   ]
  },
  {
   "cell_type": "code",
   "execution_count": 15,
   "metadata": {
    "colab": {
     "base_uri": "https://localhost:8080/",
     "height": 426
    },
    "colab_type": "code",
    "id": "wUUY2XIj6dF_",
    "outputId": "1af3a5d2-8890-4de1-fc54-9a67f5581a40"
   },
   "outputs": [
    {
     "data": {
      "image/png": "[encoded data removed]",
      "text/plain": [
       "<Figure size 1440x360 with 1 Axes>"
      ]
     },
     "metadata": {
      "needs_background": "light"
     },
     "output_type": "display_data"
    }
   ],
   "source": [
    "freq_words(df['reviewText'])"
   ]
  },
  {
   "cell_type": "code",
   "execution_count": 16,
   "metadata": {
    "colab": {},
    "colab_type": "code",
    "id": "nshGCS0WGLlQ"
   },
   "outputs": [],
   "source": [
    "from nltk.corpus import stopwords\n",
    "stop_words = stopwords.words('english')"
   ]
  },
  {
   "cell_type": "code",
   "execution_count": 17,
   "metadata": {
    "colab": {},
    "colab_type": "code",
    "id": "B8MogVp8vC6l"
   },
   "outputs": [],
   "source": [
    "# function to remove stopwords\n",
    "def remove_stopwords(rev):\n",
    "  rev_new = \" \".join([i for i in rev if i not in stop_words])\n",
    "  return rev_new"
   ]
  },
  {
   "cell_type": "code",
   "execution_count": 18,
   "metadata": {
    "colab": {},
    "colab_type": "code",
    "id": "KYxtiTbOwULK"
   },
   "outputs": [],
   "source": [
    "# remove short words (length < 3)\n",
    "df['reviewText'] = df['reviewText'].apply(lambda x: ' '.join([w for w in x.split() if len(w)>2]))\n",
    "\n",
    "# remove stopwords from the text\n",
    "reviews = [remove_stopwords(r.split()) for r in df['reviewText']]\n",
    "\n",
    "# make entire text lowercase\n",
    "reviews = [r.lower() for r in reviews]"
   ]
  },
  {
   "cell_type": "code",
   "execution_count": 19,
   "metadata": {
    "colab": {
     "base_uri": "https://localhost:8080/",
     "height": 426
    },
    "colab_type": "code",
    "id": "9eSP1Ruj9fdT",
    "outputId": "1bfc8f92-c390-4d1c-cfa3-ed6b9982271f"
   },
   "outputs": [
    {
     "data": {
      "image/png": "[encoded data removed]",
      "text/plain": [
       "<Figure size 1440x360 with 1 Axes>"
      ]
     },
     "metadata": {
      "needs_background": "light"
     },
     "output_type": "display_data"
    }
   ],
   "source": [
    "freq_words(reviews, 35)"
   ]
  },
  {
   "cell_type": "code",
   "execution_count": 21,
   "metadata": {
    "colab": {},
    "colab_type": "code",
    "id": "x3MUTshKDvC4"
   },
   "outputs": [],
   "source": [
    "# nlp = spacy.load('en', disable=['parser', 'ner'])"
   ]
  },
  {
   "cell_type": "code",
   "execution_count": 22,
   "metadata": {
    "colab": {},
    "colab_type": "code",
    "id": "jZ6TkR4w_kwq"
   },
   "outputs": [],
   "source": [
    "# def lemmatization(texts, tags=['NOUN', 'ADJ']):\n",
    "#     output = []\n",
    "#     for sent in texts:\n",
    "#         doc = nlp(\" \".join(sent)) \n",
    "#         output.append([token.lemma_ for token in doc if token.pos_ in tags])\n",
    "#     return output"
   ]
  },
  {
   "cell_type": "code",
   "execution_count": 23,
   "metadata": {
    "colab": {},
    "colab_type": "code",
    "id": "A_r_uxa3Icq0"
   },
   "outputs": [
    {
     "name": "stdout",
     "output_type": "stream",
     "text": [
      "['these', 'long', 'cables', 'work', 'fine', 'truck', 'quality', 'seems', 'little', 'shabby', 'side', 'for', 'money', 'expecting', 'dollar', 'snap', 'jumper', 'cables', 'seem', 'like', 'would', 'see', 'chinese', 'knock', 'shop', 'like', 'harbor', 'freight', 'bucks']\n"
     ]
    }
   ],
   "source": [
    "tokenized_reviews = pd.Series(reviews).apply(lambda x: x.split())\n",
    "print(tokenized_reviews[1])"
   ]
  },
  {
   "cell_type": "code",
   "execution_count": 24,
   "metadata": {
    "colab": {
     "base_uri": "https://localhost:8080/",
     "height": 73
    },
    "colab_type": "code",
    "id": "OKGHMX01NlBa",
    "outputId": "74723838-835d-4ecc-dc02-6aa7d3b11811"
   },
   "outputs": [
    {
     "name": "stdout",
     "output_type": "stream",
     "text": [
      "['these', 'long', 'cables', 'work', 'fine', 'truck', 'quality', 'seems', 'little', 'shabby', 'side', 'for', 'money', 'expecting', 'dollar', 'snap', 'jumper', 'cables', 'seem', 'like', 'would', 'see', 'chinese', 'knock', 'shop', 'like', 'harbor', 'freight', 'bucks']\n"
     ]
    },
    {
     "data": {
      "text/plain": [
       "29"
      ]
     },
     "execution_count": 24,
     "metadata": {},
     "output_type": "execute_result"
    }
   ],
   "source": [
    "print(tokenized_reviews[1])\n",
    "len(tokenized_reviews[1])"
   ]
  },
  {
   "cell_type": "code",
   "execution_count": 26,
   "metadata": {
    "colab": {},
    "colab_type": "code",
    "id": "tRUfUgkD_k24"
   },
   "outputs": [
    {
     "name": "stdout",
     "output_type": "stream",
     "text": [
      "['these', 'long', 'cables', 'work', 'fine', 'truck', 'quality', 'seems', 'little', 'shabby', 'side', 'for', 'money', 'expecting', 'dollar', 'snap', 'jumper', 'cables', 'seem', 'like', 'would', 'see', 'chinese', 'knock', 'shop', 'like', 'harbor', 'freight', 'bucks']\n"
     ]
    }
   ],
   "source": [
    "# reviews_2 = lemmatization(tokenized_reviews)\n",
    "reviews_2 = tokenized_reviews\n",
    "print(reviews_2[1])"
   ]
  },
  {
   "cell_type": "code",
   "execution_count": 27,
   "metadata": {
    "colab": {
     "base_uri": "https://localhost:8080/",
     "height": 73
    },
    "colab_type": "code",
    "id": "3Iw8zFgu_lC3",
    "outputId": "a04236f4-0f32-4551-9621-9f69fa439b85"
   },
   "outputs": [
    {
     "name": "stdout",
     "output_type": "stream",
     "text": [
      "['these', 'long', 'cables', 'work', 'fine', 'truck', 'quality', 'seems', 'little', 'shabby', 'side', 'for', 'money', 'expecting', 'dollar', 'snap', 'jumper', 'cables', 'seem', 'like', 'would', 'see', 'chinese', 'knock', 'shop', 'like', 'harbor', 'freight', 'bucks']\n"
     ]
    },
    {
     "data": {
      "text/plain": [
       "29"
      ]
     },
     "execution_count": 27,
     "metadata": {},
     "output_type": "execute_result"
    }
   ],
   "source": [
    "print(reviews_2[1])\n",
    "len(reviews_2[1])"
   ]
  },
  {
   "cell_type": "code",
   "execution_count": 28,
   "metadata": {
    "colab": {
     "base_uri": "https://localhost:8080/",
     "height": 251
    },
    "colab_type": "code",
    "id": "4xggnZ-u_lHd",
    "outputId": "0bd6f14e-acbe-4fe6-969c-4480a90640c6"
   },
   "outputs": [
    {
     "data": {
      "text/plain": [
       "set()"
      ]
     },
     "execution_count": 28,
     "metadata": {},
     "output_type": "execute_result"
    }
   ],
   "source": [
    "set(tokenized_reviews[1]) - set(reviews_2[1])"
   ]
  },
  {
   "cell_type": "code",
   "execution_count": 29,
   "metadata": {
    "colab": {},
    "colab_type": "code",
    "id": "aZ9ZPfO-CEmD"
   },
   "outputs": [],
   "source": [
    "reviews_3 = []\n",
    "for i in range(len(reviews_2)):\n",
    "    reviews_3.append(' '.join(reviews_2[i]))\n",
    "    \n",
    "df['reviews'] = reviews_3"
   ]
  },
  {
   "cell_type": "code",
   "execution_count": 30,
   "metadata": {
    "colab": {
     "base_uri": "https://localhost:8080/",
     "height": 426
    },
    "colab_type": "code",
    "id": "Zyj9zVQqCY6R",
    "outputId": "a71332fc-e6bf-4581-e3f8-4fb081bbb8f1"
   },
   "outputs": [
    {
     "data": {
      "image/png": "[encoded data removed]",
      "text/plain": [
       "<Figure size 1440x360 with 1 Axes>"
      ]
     },
     "metadata": {
      "needs_background": "light"
     },
     "output_type": "display_data"
    }
   ],
   "source": [
    "freq_words(df['reviews'], 35)"
   ]
  },
  {
   "cell_type": "code",
   "execution_count": 31,
   "metadata": {
    "colab": {},
    "colab_type": "code",
    "id": "FBtKwstViu_h"
   },
   "outputs": [],
   "source": [
    "# Create the term dictionary of our corpus, where every unique term is assigned an index\n",
    "dictionary = corpora.Dictionary(reviews_2)"
   ]
  },
  {
   "cell_type": "code",
   "execution_count": 32,
   "metadata": {
    "colab": {},
    "colab_type": "code",
    "id": "rDoMrZfkiu-c"
   },
   "outputs": [],
   "source": [
    "# Convert list of reviews (reviews_2) into a Document Term Matrix using the dictionary prepared above.\n",
    "doc_term_matrix = [dictionary.doc2bow(rev) for rev in reviews_2]"
   ]
  },
  {
   "cell_type": "code",
   "execution_count": 33,
   "metadata": {
    "colab": {},
    "colab_type": "code",
    "id": "X6JSF612qkm1"
   },
   "outputs": [],
   "source": [
    "# Creating the object for LDA model using gensim library\n",
    "LDA = gensim.models.ldamodel.LdaModel"
   ]
  },
  {
   "cell_type": "code",
   "execution_count": 34,
   "metadata": {
    "colab": {},
    "colab_type": "code",
    "id": "U8MLxPhRiuh6"
   },
   "outputs": [],
   "source": [
    "# Build LDA model\n",
    "lda_model = LDA(corpus=doc_term_matrix,\n",
    "                id2word=dictionary,\n",
    "                num_topics=7, \n",
    "                random_state=100,\n",
    "                chunksize=1000,\n",
    "                passes=50)\n",
    "# 执行时间很长"
   ]
  },
  {
   "cell_type": "code",
   "execution_count": 38,
   "metadata": {
    "colab": {
     "base_uri": "https://localhost:8080/",
     "height": 289
    },
    "colab_type": "code",
    "id": "TB5lGOR3iucK",
    "outputId": "a6c66aa2-34c9-4b80-bc56-601eed395193"
   },
   "outputs": [
    {
     "data": {
      "text/plain": [
       "[(0,\n",
       "  '0.019*\"brush\" + 0.019*\"wheels\" + 0.016*\"wheel\" + 0.012*\"ice\" + 0.011*\"snow\" + 0.008*\"carpet\" + 0.007*\"cold\" + 0.006*\"rust\" + 0.006*\"cup\" + 0.006*\"metal\"'),\n",
       " (1,\n",
       "  '0.020*\"great\" + 0.019*\"well\" + 0.018*\"wiper\" + 0.016*\"blade\" + 0.016*\"blades\" + 0.015*\"easy\" + 0.013*\"good\" + 0.012*\"they\" + 0.012*\"fit\" + 0.011*\"windshield\"'),\n",
       " (2,\n",
       "  '0.019*\"the\" + 0.011*\"light\" + 0.010*\"one\" + 0.009*\"would\" + 0.007*\"get\" + 0.007*\"like\" + 0.006*\"use\" + 0.006*\"lights\" + 0.006*\"this\" + 0.005*\"well\"'),\n",
       " (3,\n",
       "  '0.022*\"car\" + 0.013*\"product\" + 0.013*\"use\" + 0.011*\"the\" + 0.010*\"like\" + 0.009*\"used\" + 0.008*\"wax\" + 0.008*\"good\" + 0.008*\"great\" + 0.008*\"this\"'),\n",
       " (4,\n",
       "  '0.013*\"car\" + 0.012*\"one\" + 0.008*\"price\" + 0.008*\"the\" + 0.008*\"product\" + 0.007*\"good\" + 0.007*\"oil\" + 0.007*\"time\" + 0.007*\"amazon\" + 0.007*\"get\"'),\n",
       " (5,\n",
       "  '0.031*\"battery\" + 0.020*\"power\" + 0.015*\"car\" + 0.014*\"use\" + 0.012*\"plug\" + 0.011*\"unit\" + 0.011*\"charge\" + 0.010*\"the\" + 0.010*\"charger\" + 0.009*\"this\"'),\n",
       " (6,\n",
       "  '0.039*\"hose\" + 0.034*\"water\" + 0.016*\"tank\" + 0.012*\"oil\" + 0.011*\"pump\" + 0.010*\"fluid\" + 0.009*\"sewer\" + 0.009*\"drain\" + 0.008*\"valve\" + 0.008*\"use\"')]"
      ]
     },
     "execution_count": 38,
     "metadata": {},
     "output_type": "execute_result"
    }
   ],
   "source": [
    "lda_model.print_topics()"
   ]
  },
  {
   "cell_type": "code",
   "execution_count": 36,
   "metadata": {
    "colab": {
     "base_uri": "https://localhost:8080/",
     "height": 860
    },
    "colab_type": "code",
    "id": "4nRZyKPDCauL",
    "outputId": "b0ef59ff-5204-4ea1-80c9-f100cc9bf1cb"
   },
   "outputs": [
    {
     "name": "stderr",
     "output_type": "stream",
     "text": [
      "D:\\install\\miniconda\\lib\\site-packages\\pyLDAvis\\_prepare.py:257: FutureWarning: Sorting because non-concatenation axis is not aligned. A future version\n",
      "of pandas will change to not sort by default.\n",
      "\n",
      "To accept the future behavior, pass 'sort=False'.\n",
      "\n",
      "To retain the current behavior and silence the warning, pass 'sort=True'.\n",
      "\n",
      "  return pd.concat([default_term_info] + list(topic_dfs))\n"
     ]
    },
    {
     "data": {
      "text/html": [
       "\n",
       "<link rel=\"stylesheet\" type=\"text/css\" href=\"https://cdn.rawgit.com/bmabey/pyLDAvis/files/ldavis.v1.0.0.css\">\n",
       "\n",
       "\n",
       "<div id=\"ldavis_el130246912913849116137387\"></div>\n",
       "<script type=\"text/javascript\">\n",
       "\n",
       "var ldavis_el130246912913849116137387_data = {\"mdsDat\": {\"x\": [-0.14794187641916448, -0.14986531248901538, -0.15707659683429534, -0.1343662987785301, -0.029176165342229738, 0.24440866929284763, 0.37401758057038714], \"y\": [-0.035721454251654204, 0.013975581029188215, -0.007677185800569822, -0.07301350443567078, 0.02871434702234936, 0.31589135969723253, -0.2421691432608753], \"topics\": [1, 2, 3, 4, 5, 6, 7], \"cluster\": [1, 1, 1, 1, 1, 1, 1], \"Freq\": [29.875761032104492, 23.31287956237793, 19.591798782348633, 10.277308464050293, 9.309187889099121, 4.298226356506348, 3.3348348140716553]}, \"tinfo\": {\"Category\": [\"Default\", \"Default\", \"Default\", \"Default\", \"Default\", \"Default\", \"Default\", \"Default\", \"Default\", \"Default\", \"Default\", \"Default\", \"Default\", \"Default\", \"Default\", \"Default\", \"Default\", \"Default\", \"Default\", \"Default\", \"Default\", \"Default\", \"Default\", \"Default\", \"Default\", \"Default\", \"Default\", \"Default\", \"Default\", \"Default\", \"Topic1\", \"Topic1\", \"Topic1\", \"Topic1\", \"Topic1\", \"Topic1\", \"Topic1\", \"Topic1\", \"Topic1\", \"Topic1\", \"Topic1\", \"Topic1\", \"Topic1\", \"Topic1\", \"Topic1\", \"Topic1\", \"Topic1\", \"Topic1\", \"Topic1\", \"Topic1\", \"Topic1\", \"Topic1\", \"Topic1\", \"Topic1\", \"Topic1\", \"Topic1\", \"Topic1\", \"Topic1\", \"Topic1\", \"Topic1\", \"Topic1\", \"Topic1\", \"Topic1\", \"Topic1\", \"Topic1\", \"Topic1\", \"Topic1\", \"Topic1\", \"Topic1\", \"Topic1\", \"Topic1\", \"Topic1\", \"Topic1\", \"Topic1\", \"Topic1\", \"Topic1\", \"Topic1\", \"Topic1\", \"Topic1\", \"Topic1\", \"Topic1\", \"Topic1\", \"Topic1\", \"Topic1\", \"Topic1\", \"Topic1\", \"Topic1\", \"Topic1\", \"Topic1\", \"Topic1\", \"Topic1\", \"Topic1\", \"Topic1\", \"Topic1\", \"Topic1\", \"Topic1\", \"Topic1\", \"Topic1\", \"Topic1\", \"Topic1\", \"Topic1\", \"Topic1\", \"Topic1\", \"Topic1\", \"Topic2\", \"Topic2\", \"Topic2\", \"Topic2\", \"Topic2\", \"Topic2\", \"Topic2\", \"Topic2\", \"Topic2\", \"Topic2\", \"Topic2\", \"Topic2\", \"Topic2\", \"Topic2\", \"Topic2\", \"Topic2\", \"Topic2\", \"Topic2\", \"Topic2\", \"Topic2\", \"Topic2\", \"Topic2\", \"Topic2\", \"Topic2\", \"Topic2\", \"Topic2\", \"Topic2\", \"Topic2\", \"Topic2\", \"Topic2\", \"Topic2\", \"Topic2\", \"Topic2\", \"Topic2\", \"Topic2\", \"Topic2\", \"Topic2\", \"Topic2\", \"Topic2\", \"Topic2\", \"Topic2\", \"Topic2\", \"Topic2\", \"Topic2\", \"Topic2\", \"Topic2\", \"Topic2\", \"Topic2\", \"Topic2\", \"Topic2\", \"Topic2\", \"Topic2\", \"Topic2\", \"Topic2\", \"Topic2\", \"Topic2\", \"Topic2\", \"Topic3\", \"Topic3\", \"Topic3\", \"Topic3\", \"Topic3\", \"Topic3\", \"Topic3\", \"Topic3\", \"Topic3\", \"Topic3\", \"Topic3\", \"Topic3\", \"Topic3\", \"Topic3\", \"Topic3\", \"Topic3\", \"Topic3\", \"Topic3\", \"Topic3\", \"Topic3\", \"Topic3\", \"Topic3\", \"Topic3\", \"Topic3\", \"Topic3\", \"Topic3\", \"Topic3\", \"Topic3\", \"Topic3\", \"Topic3\", \"Topic3\", \"Topic3\", \"Topic3\", \"Topic3\", \"Topic3\", \"Topic3\", \"Topic3\", \"Topic3\", \"Topic3\", \"Topic3\", \"Topic3\", \"Topic3\", \"Topic3\", \"Topic3\", \"Topic3\", \"Topic3\", \"Topic3\", \"Topic3\", \"Topic3\", \"Topic3\", \"Topic3\", \"Topic3\", \"Topic3\", \"Topic3\", \"Topic3\", \"Topic3\", \"Topic3\", \"Topic3\", \"Topic3\", \"Topic3\", \"Topic3\", \"Topic3\", \"Topic3\", \"Topic3\", \"Topic3\", \"Topic3\", \"Topic3\", \"Topic3\", \"Topic3\", \"Topic3\", \"Topic4\", \"Topic4\", \"Topic4\", \"Topic4\", \"Topic4\", \"Topic4\", \"Topic4\", \"Topic4\", \"Topic4\", \"Topic4\", \"Topic4\", \"Topic4\", \"Topic4\", \"Topic4\", \"Topic4\", \"Topic4\", \"Topic4\", \"Topic4\", \"Topic4\", \"Topic4\", \"Topic4\", \"Topic4\", \"Topic4\", \"Topic4\", \"Topic4\", \"Topic4\", \"Topic4\", \"Topic4\", \"Topic4\", \"Topic4\", \"Topic4\", \"Topic4\", \"Topic4\", \"Topic4\", \"Topic4\", \"Topic4\", \"Topic4\", \"Topic4\", \"Topic4\", \"Topic4\", \"Topic4\", \"Topic4\", \"Topic4\", \"Topic4\", \"Topic4\", \"Topic4\", \"Topic4\", \"Topic4\", \"Topic4\", \"Topic4\", \"Topic4\", \"Topic4\", \"Topic4\", \"Topic4\", \"Topic4\", \"Topic4\", \"Topic4\", \"Topic4\", \"Topic4\", \"Topic4\", \"Topic4\", \"Topic4\", \"Topic5\", \"Topic5\", \"Topic5\", \"Topic5\", \"Topic5\", \"Topic5\", \"Topic5\", \"Topic5\", \"Topic5\", \"Topic5\", \"Topic5\", \"Topic5\", \"Topic5\", \"Topic5\", \"Topic5\", \"Topic5\", \"Topic5\", \"Topic5\", \"Topic5\", \"Topic5\", \"Topic5\", \"Topic5\", \"Topic5\", \"Topic5\", \"Topic5\", \"Topic5\", \"Topic5\", \"Topic5\", \"Topic5\", \"Topic5\", \"Topic5\", \"Topic5\", \"Topic5\", \"Topic5\", \"Topic5\", \"Topic5\", \"Topic5\", \"Topic5\", \"Topic5\", \"Topic5\", \"Topic5\", \"Topic5\", \"Topic5\", \"Topic5\", \"Topic5\", \"Topic5\", \"Topic6\", \"Topic6\", \"Topic6\", \"Topic6\", \"Topic6\", \"Topic6\", \"Topic6\", \"Topic6\", \"Topic6\", \"Topic6\", \"Topic6\", \"Topic6\", \"Topic6\", \"Topic6\", \"Topic6\", \"Topic6\", \"Topic6\", \"Topic6\", \"Topic6\", \"Topic6\", \"Topic6\", \"Topic6\", \"Topic6\", \"Topic6\", \"Topic6\", \"Topic6\", \"Topic6\", \"Topic6\", \"Topic6\", \"Topic6\", \"Topic6\", \"Topic6\", \"Topic6\", \"Topic6\", \"Topic6\", \"Topic6\", \"Topic6\", \"Topic6\", \"Topic6\", \"Topic6\", \"Topic6\", \"Topic6\", \"Topic6\", \"Topic6\", \"Topic6\", \"Topic6\", \"Topic6\", \"Topic6\", \"Topic6\", \"Topic6\", \"Topic6\", \"Topic6\", \"Topic6\", \"Topic7\", \"Topic7\", \"Topic7\", \"Topic7\", \"Topic7\", \"Topic7\", \"Topic7\", \"Topic7\", \"Topic7\", \"Topic7\", \"Topic7\", \"Topic7\", \"Topic7\", \"Topic7\", \"Topic7\", \"Topic7\", \"Topic7\", \"Topic7\", \"Topic7\", \"Topic7\", \"Topic7\", \"Topic7\", \"Topic7\", \"Topic7\", \"Topic7\", \"Topic7\", \"Topic7\", \"Topic7\", \"Topic7\", \"Topic7\", \"Topic7\", \"Topic7\", \"Topic7\", \"Topic7\", \"Topic7\", \"Topic7\", \"Topic7\", \"Topic7\", \"Topic7\", \"Topic7\", \"Topic7\", \"Topic7\", \"Topic7\", \"Topic7\"], \"Freq\": [2847.0, 2629.0, 8321.0, 1522.0, 1639.0, 1679.0, 5352.0, 1486.0, 1438.0, 1675.0, 3437.0, 1966.0, 5812.0, 2657.0, 1959.0, 5148.0, 1509.0, 1750.0, 1030.0, 3186.0, 7466.0, 1572.0, 1107.0, 2312.0, 1069.0, 1482.0, 892.0, 2017.0, 5417.0, 1420.0, 1204.61669921875, 996.7140502929688, 724.4544677734375, 683.792236328125, 613.9812622070312, 503.2806091308594, 392.03021240234375, 361.8990478515625, 309.5065612792969, 298.7245178222656, 281.59063720703125, 264.4681396484375, 262.5064697265625, 251.031494140625, 246.9725341796875, 245.54971313476562, 241.11404418945312, 236.4245147705078, 236.04718017578125, 234.13177490234375, 225.2081298828125, 214.7474822998047, 211.3468475341797, 210.41712951660156, 193.3476104736328, 191.28533935546875, 190.32948303222656, 184.8599395751953, 177.4456024169922, 177.52252197265625, 1591.3836669921875, 2852.745361328125, 1053.6529541015625, 410.4970703125, 314.0146484375, 828.6000366210938, 744.862060546875, 376.2636413574219, 338.89996337890625, 701.2352294921875, 717.8351440429688, 5054.6279296875, 1300.56201171875, 1081.00244140625, 976.9890747070312, 1001.8494873046875, 409.49932861328125, 2371.202880859375, 1129.818603515625, 600.7562255859375, 2706.135009765625, 889.487548828125, 1973.8660888671875, 595.22705078125, 1332.4591064453125, 625.9495239257812, 794.0913696289062, 1076.4932861328125, 924.8515014648438, 865.182373046875, 1037.5975341796875, 1833.312744140625, 1382.5662841796875, 1151.18017578125, 1696.171875, 1528.1910400390625, 1219.1282958984375, 1200.372314453125, 1454.440185546875, 1033.96630859375, 965.906982421875, 1173.79443359375, 1003.4170532226562, 938.4044799804688, 1749.59716796875, 1571.62890625, 1482.0107421875, 1419.3961181640625, 1365.24853515625, 1227.5682373046875, 1205.9954833984375, 1162.9029541015625, 1044.258056640625, 937.74560546875, 771.33154296875, 728.5987548828125, 570.9019775390625, 565.9412841796875, 537.8098754882812, 516.3121948242188, 514.5381469726562, 495.99261474609375, 414.1139221191406, 389.5356750488281, 365.44573974609375, 343.2353515625, 340.5203857421875, 329.68597412109375, 306.3598937988281, 301.58673095703125, 300.8486328125, 300.4028625488281, 301.2160949707031, 280.7642517089844, 1119.2119140625, 896.2481689453125, 645.8356323242188, 1577.302734375, 706.3817138671875, 766.5581665039062, 564.0728149414062, 4597.11474609375, 2812.664794921875, 974.1566162109375, 1514.4522705078125, 2811.888916015625, 1952.022705078125, 2189.677001953125, 1261.3299560546875, 1744.8358154296875, 959.5490112304688, 1693.8477783203125, 2299.62744140625, 1689.0452880859375, 1616.89892578125, 1252.328125, 1257.4033203125, 1165.8916015625, 1230.8524169921875, 1056.5947265625, 1033.9215087890625, 1019.8455810546875, 684.0882568359375, 477.74810791015625, 470.54522705078125, 448.02667236328125, 410.2944030761719, 360.76312255859375, 333.3101501464844, 329.98699951171875, 315.71929931640625, 307.1503601074219, 248.75840759277344, 242.2670440673828, 238.78411865234375, 227.38015747070312, 220.91372680664062, 205.3274688720703, 192.87110900878906, 191.80979919433594, 189.4821014404297, 187.7603302001953, 186.5321502685547, 185.0311737060547, 178.94595336914062, 170.1986541748047, 155.4008026123047, 152.444580078125, 150.50729370117188, 138.6455078125, 137.27655029296875, 1199.852783203125, 735.3562622070312, 402.51556396484375, 862.1311645507812, 1209.8046875, 287.77777099609375, 1498.869140625, 526.5144653320312, 553.0535888671875, 690.7159423828125, 309.7588195800781, 354.77825927734375, 326.7550048828125, 881.7376708984375, 453.4107360839844, 2188.634521484375, 2332.662109375, 745.37548828125, 714.4140625, 728.0092163085938, 646.011474609375, 566.1707763671875, 1408.05810546875, 1202.537353515625, 1193.9610595703125, 671.5066528320312, 1219.56640625, 601.8895874023438, 931.2767944335938, 1479.4351806640625, 814.7394409179688, 1046.602294921875, 1090.6077880859375, 948.5344848632812, 727.3618774414062, 933.9058227539062, 1019.3309326171875, 931.9119262695312, 691.6188354492188, 778.5660400390625, 1678.300537109375, 1485.7840576171875, 1437.9571533203125, 771.6961669921875, 557.6356811523438, 552.6351318359375, 274.8218078613281, 176.35055541992188, 174.36631774902344, 164.73143005371094, 162.11766052246094, 146.12745666503906, 133.721923828125, 130.46319580078125, 130.3832244873047, 119.59988403320312, 105.93781280517578, 98.47987365722656, 92.81055450439453, 90.74398040771484, 91.48954010009766, 87.068115234375, 83.32344055175781, 77.01620483398438, 75.27225494384766, 67.37242126464844, 63.33183288574219, 61.879093170166016, 64.09577178955078, 57.438541412353516, 1013.4160766601562, 706.75244140625, 657.2056884765625, 317.3613586425781, 203.62718200683594, 997.234619140625, 274.0531921386719, 1146.6148681640625, 490.187255859375, 1421.18212890625, 1148.6956787109375, 1875.319091796875, 480.2174987792969, 881.1795043945312, 1742.548095703125, 402.9613037109375, 749.3409423828125, 513.4147338867188, 698.6372680664062, 1188.647216796875, 617.2027587890625, 393.7347717285156, 814.39501953125, 388.55670166015625, 689.579345703125, 557.7557373046875, 892.487060546875, 689.2428588867188, 654.1961669921875, 653.6910400390625, 612.1099853515625, 508.1355285644531, 2628.501220703125, 1639.1365966796875, 1029.3330078125, 891.28955078125, 806.5552978515625, 670.2014770507812, 589.9834594726562, 510.97821044921875, 454.8356628417969, 435.4122009277344, 389.5798034667969, 357.4888610839844, 339.9147033691406, 333.1208801269531, 325.66082763671875, 329.0429992675781, 299.7879638671875, 295.13446044921875, 291.88519287109375, 286.4698791503906, 280.5032043457031, 268.4811096191406, 262.1891784667969, 257.8907775878906, 247.6212921142578, 241.1033172607422, 236.84278869628906, 211.3958740234375, 196.926025390625, 196.41452026367188, 378.0733642578125, 895.1625366210938, 753.2380981445312, 393.1101379394531, 335.8350830078125, 307.1304931640625, 1287.364013671875, 1183.3980712890625, 770.6394653320312, 870.3828125, 566.6141357421875, 439.2806701660156, 440.9866027832031, 357.31640625, 371.2337341308594, 337.71820068359375, 1521.442138671875, 618.6926879882812, 444.7880554199219, 399.6917724609375, 330.6230773925781, 195.75413513183594, 175.9969482421875, 173.5250244140625, 166.8658447265625, 161.61935424804688, 158.35073852539062, 157.99917602539062, 148.99163818359375, 142.0256805419922, 133.31605529785156, 131.5283660888672, 130.4487762451172, 129.93641662597656, 123.38672637939453, 112.74915313720703, 110.27997589111328, 106.18403625488281, 98.16316223144531, 94.48629760742188, 89.64388275146484, 89.13514709472656, 84.7729263305664, 84.46284484863281, 84.2555923461914, 79.10095977783203, 330.390869140625, 226.1653289794922, 167.62106323242188, 127.01319885253906, 225.40802001953125, 1332.781494140625, 170.487548828125, 219.95907592773438, 313.618896484375, 276.91534423828125, 248.46023559570312, 230.12734985351562, 464.946044921875, 249.75851440429688, 257.92962646484375, 170.1160888671875, 240.4948272705078, 239.01661682128906, 261.522216796875, 306.41595458984375, 195.79110717773438, 207.6832275390625, 176.2637939453125, 562.8458862304688, 556.1728515625, 364.8732604980469, 232.42527770996094, 194.1628875732422, 188.68087768554688, 170.41067504882812, 158.4345703125, 127.95580291748047, 124.51698303222656, 125.60202026367188, 117.24781036376953, 113.08036041259766, 102.5154800415039, 101.70664978027344, 96.5359115600586, 90.87448120117188, 82.19471740722656, 81.33586883544922, 79.38815307617188, 75.0263442993164, 72.61786651611328, 72.15335845947266, 72.0335464477539, 71.45403289794922, 70.93648529052734, 70.9576187133789, 67.15995788574219, 66.29376220703125, 65.84442901611328, 495.725341796875, 133.9042205810547, 333.6576232910156, 90.90267181396484, 203.92620849609375, 156.62942504882812, 170.4250946044922, 130.75946044921875, 145.70018005371094, 130.5498809814453, 155.0083770751953, 136.39682006835938, 93.46635437011719, 92.32276153564453], \"Term\": [\"water\", \"battery\", \"car\", \"hose\", \"power\", \"wiper\", \"great\", \"blade\", \"blades\", \"oil\", \"easy\", \"fit\", \"well\", \"they\", \"clean\", \"product\", \"install\", \"wax\", \"plug\", \"light\", \"use\", \"leather\", \"unit\", \"price\", \"windshield\", \"towel\", \"charge\", \"these\", \"good\", \"wash\", \"bulbs\", \"bright\", \"tape\", \"gauge\", \"bulb\", \"bag\", \"brighter\", \"code\", \"head\", \"ground\", \"mat\", \"hole\", \"leds\", \"holes\", \"position\", \"scanner\", \"psi\", \"screw\", \"lighting\", \"adhesive\", \"hid\", \"screen\", \"button\", \"center\", \"strips\", \"block\", \"view\", \"indicator\", \"glove\", \"display\", \"lights\", \"light\", \"tire\", \"night\", \"board\", \"led\", \"place\", \"tight\", \"key\", \"box\", \"pressure\", \"the\", \"back\", \"enough\", \"plastic\", \"around\", \"open\", \"would\", \"put\", \"hold\", \"one\", \"side\", \"get\", \"front\", \"little\", \"white\", \"set\", \"could\", \"small\", \"bit\", \"make\", \"like\", \"work\", \"need\", \"use\", \"this\", \"easy\", \"much\", \"well\", \"nice\", \"way\", \"good\", \"really\", \"also\", \"wax\", \"leather\", \"towel\", \"wash\", \"towels\", \"paint\", \"cleaning\", \"spray\", \"microfiber\", \"shine\", \"apply\", \"drying\", \"washing\", \"clay\", \"polish\", \"cloth\", \"pad\", \"griot\", \"meguiar\", \"leaves\", \"pads\", \"coat\", \"polishing\", \"cloths\", \"applying\", \"chemical\", \"scratches\", \"detailing\", \"sanding\", \"soap\", \"dry\", \"cleaner\", \"dirt\", \"clean\", \"finish\", \"surface\", \"smell\", \"car\", \"product\", \"products\", \"water\", \"use\", \"used\", \"like\", \"using\", \"good\", \"job\", \"great\", \"the\", \"this\", \"well\", \"really\", \"get\", \"time\", \"one\", \"much\", \"would\", \"filter\", \"app\", \"usb\", \"data\", \"codes\", \"information\", \"service\", \"filters\", \"local\", \"shipping\", \"zubie\", \"iphone\", \"dealer\", \"mileage\", \"link\", \"changes\", \"changing\", \"online\", \"caps\", \"paid\", \"software\", \"customer\", \"bluetooth\", \"website\", \"phones\", \"mechanic\", \"fuses\", \"powered\", \"dollars\", \"stopped\", \"amazon\", \"change\", \"miles\", \"engine\", \"oil\", \"version\", \"price\", \"cost\", \"money\", \"driving\", \"manual\", \"honda\", \"shop\", \"buy\", \"check\", \"one\", \"car\", \"years\", \"know\", \"cars\", \"find\", \"year\", \"product\", \"time\", \"get\", \"best\", \"good\", \"many\", \"much\", \"the\", \"better\", \"would\", \"this\", \"used\", \"quality\", \"great\", \"use\", \"like\", \"could\", \"well\", \"wiper\", \"blade\", \"blades\", \"wipers\", \"bosch\", \"jack\", \"arm\", \"compact\", \"ball\", \"jacks\", \"icon\", \"stands\", \"helmet\", \"anco\", \"speeds\", \"license\", \"mothers\", \"constructed\", \"visibility\", \"profile\", \"living\", \"lightweight\", \"contour\", \"connecting\", \"logo\", \"clearing\", \"universal\", \"frameless\", \"share\", \"scissors\", \"windshield\", \"rain\", \"jeep\", \"hitch\", \"wrangler\", \"install\", \"duty\", \"fit\", \"fits\", \"easy\", \"they\", \"great\", \"heavy\", \"these\", \"well\", \"perfectly\", \"quality\", \"looks\", \"made\", \"good\", \"recommend\", \"very\", \"works\", \"trailer\", \"work\", \"price\", \"the\", \"product\", \"like\", \"this\", \"would\", \"nice\", \"battery\", \"power\", \"plug\", \"charge\", \"charger\", \"phone\", \"batteries\", \"inverter\", \"charging\", \"cable\", \"solar\", \"cord\", \"port\", \"devices\", \"cigarette\", \"mats\", \"plugs\", \"cables\", \"charged\", \"plugged\", \"cell\", \"tender\", \"connectors\", \"laptop\", \"fuse\", \"torque\", \"outlet\", \"voltage\", \"dead\", \"electrical\", \"lighter\", \"unit\", \"device\", \"adapter\", \"automatic\", \"connect\", \"car\", \"use\", \"this\", \"the\", \"also\", \"keep\", \"works\", \"small\", \"need\", \"using\", \"hose\", \"tank\", \"pump\", \"fluid\", \"sewer\", \"adapters\", \"hoses\", \"leaks\", \"dump\", \"transmission\", \"tanks\", \"coolant\", \"pink\", \"purple\", \"funnel\", \"brakes\", \"flush\", \"pan\", \"pleasant\", \"royal\", \"bissell\", \"smoother\", \"grand\", \"filling\", \"carpets\", \"mother\", \"refill\", \"lube\", \"exhaust\", \"gallons\", \"drain\", \"fill\", \"vacuum\", \"empty\", \"leak\", \"water\", \"flow\", \"nozzle\", \"valve\", \"fuel\", \"grease\", \"cap\", \"oil\", \"gas\", \"system\", \"gallon\", \"air\", \"engine\", \"clean\", \"use\", \"pressure\", \"this\", \"bottle\", \"brush\", \"wheels\", \"ice\", \"carpet\", \"rust\", \"cup\", \"kids\", \"scraper\", \"coverage\", \"park\", \"nova\", \"bristles\", \"brushes\", \"sunlight\", \"resistant\", \"alot\", \"paying\", \"answer\", \"sharp\", \"dusting\", \"sockets\", \"wired\", \"shade\", \"softer\", \"weird\", \"became\", \"hair\", \"freezing\", \"photos\", \"excited\", \"wheel\", \"chrome\", \"snow\", \"ultra\", \"cold\", \"brake\", \"metal\", \"warm\", \"weather\", \"floor\", \"handle\", \"winter\", \"aluminum\", \"material\"], \"Total\": [2847.0, 2629.0, 8321.0, 1522.0, 1639.0, 1679.0, 5352.0, 1486.0, 1438.0, 1675.0, 3437.0, 1966.0, 5812.0, 2657.0, 1959.0, 5148.0, 1509.0, 1750.0, 1030.0, 3186.0, 7466.0, 1572.0, 1107.0, 2312.0, 1069.0, 1482.0, 892.0, 2017.0, 5417.0, 1420.0, 1205.3614501953125, 997.4591674804688, 725.2006225585938, 684.5362548828125, 614.72607421875, 504.0259094238281, 392.775146484375, 362.64630126953125, 310.252197265625, 299.4701843261719, 282.338623046875, 265.212890625, 263.2526550292969, 251.7760772705078, 247.71812438964844, 246.2971649169922, 241.85879516601562, 237.1693878173828, 236.79290771484375, 234.87774658203125, 225.95260620117188, 215.49351501464844, 212.0926055908203, 211.1634521484375, 194.09397888183594, 192.03285217285156, 191.07875061035156, 185.61085510253906, 178.19081115722656, 178.26815795898438, 1626.435302734375, 3186.427734375, 1153.2919921875, 434.1714782714844, 327.74853515625, 964.6043701171875, 860.6548461914062, 410.2570495605469, 364.26971435546875, 884.1943359375, 914.2349243164062, 10596.818359375, 2013.9534912109375, 1702.8790283203125, 1500.5361328125, 1577.521728515625, 485.76190185546875, 5276.1796875, 1950.342529296875, 825.1897583007812, 6877.62890625, 1443.04248046875, 4643.869140625, 823.4088745117188, 2704.4248046875, 888.7723388671875, 1292.33740234375, 2155.529052734375, 1710.9998779296875, 1546.3194580078125, 2126.471923828125, 5885.1455078125, 3631.85107421875, 2818.148681640625, 7466.65576171875, 5939.978515625, 3437.8740234375, 3421.504638671875, 5812.5400390625, 2405.0322265625, 2034.7222900390625, 5417.7490234375, 3185.687744140625, 3280.435302734375, 1750.3477783203125, 1572.380859375, 1482.76220703125, 1420.14697265625, 1365.99951171875, 1228.31982421875, 1206.747802734375, 1163.655029296875, 1045.0089111328125, 938.49658203125, 772.084228515625, 729.3500366210938, 571.65380859375, 566.6920776367188, 538.5607299804688, 517.0633544921875, 515.2900390625, 496.7440185546875, 414.8645935058594, 390.2901916503906, 366.19805908203125, 343.9877014160156, 341.2713623046875, 330.4367980957031, 307.1117248535156, 302.3391418457031, 301.6001281738281, 301.1537780761719, 301.969482421875, 281.51519775390625, 1167.5826416015625, 968.5938720703125, 685.4716186523438, 1959.644287109375, 791.7783813476562, 899.0079345703125, 634.237060546875, 8321.7841796875, 5148.5224609375, 1342.1370849609375, 2847.849853515625, 7466.65576171875, 4471.2646484375, 5885.1455078125, 2847.024169921875, 5417.7490234375, 1703.9918212890625, 5352.0400390625, 10596.818359375, 5939.978515625, 5812.5400390625, 3185.687744140625, 4643.869140625, 3895.650390625, 6877.62890625, 3421.504638671875, 5276.1796875, 1020.5786743164062, 684.824462890625, 478.4897155761719, 471.2803649902344, 448.7606201171875, 411.0296936035156, 361.4979553222656, 334.0430908203125, 330.7221374511719, 316.4537353515625, 307.8932189941406, 249.49710083007812, 243.00111389160156, 239.51834106445312, 228.1162567138672, 221.6489715576172, 206.06356811523438, 193.60598754882812, 192.54803466796875, 190.21693420410156, 188.49432373046875, 187.26768493652344, 185.7677764892578, 179.68081665039062, 170.93955993652344, 156.13475036621094, 153.1797332763672, 151.2460174560547, 139.3800506591797, 138.01632690429688, 1264.48828125, 798.3776245117188, 445.3016052246094, 1101.745361328125, 1675.347412109375, 317.5423889160156, 2312.678466796875, 694.313720703125, 761.7855224609375, 1051.9942626953125, 364.42279052734375, 449.1252136230469, 403.6991882324219, 1655.9228515625, 640.4572143554688, 6877.62890625, 8321.7841796875, 1426.3475341796875, 1340.0030517578125, 1421.4359130859375, 1225.0460205078125, 1026.1754150390625, 5148.5224609375, 3895.650390625, 4643.869140625, 1482.11865234375, 5417.7490234375, 1230.3968505859375, 3421.504638671875, 10596.818359375, 2691.040771484375, 5276.1796875, 5939.978515625, 4471.2646484375, 2037.7322998046875, 5352.0400390625, 7466.65576171875, 5885.1455078125, 2155.529052734375, 5812.5400390625, 1679.0330810546875, 1486.5172119140625, 1438.6895751953125, 772.4288330078125, 558.3697509765625, 553.368408203125, 275.55633544921875, 177.09251403808594, 175.10105895996094, 165.46449279785156, 162.85269165039062, 146.86257934570312, 134.45567321777344, 131.19546508789062, 131.11846923828125, 120.33555603027344, 106.67469024658203, 99.21566772460938, 93.54744720458984, 91.48245239257812, 92.23734283447266, 87.80572509765625, 84.05610656738281, 77.75933837890625, 76.00638580322266, 68.10901641845703, 64.06660461425781, 62.61190414428711, 64.85867309570312, 58.177886962890625, 1069.1009521484375, 823.0592041015625, 772.9674072265625, 355.8599853515625, 229.9949188232422, 1509.390380859375, 341.8855285644531, 1966.0911865234375, 777.1591796875, 3437.8740234375, 2657.342041015625, 5352.0400390625, 867.5628051757812, 2017.01123046875, 5812.5400390625, 736.7344360351562, 2037.7322998046875, 1154.7547607421875, 2003.3271484375, 5417.7490234375, 1759.245361328125, 790.031005859375, 3083.67236328125, 835.2141723632812, 3631.85107421875, 2312.678466796875, 10596.818359375, 5148.5224609375, 5885.1455078125, 5939.978515625, 5276.1796875, 2405.0322265625, 2629.250244140625, 1639.8870849609375, 1030.0836181640625, 892.0389404296875, 807.3043823242188, 670.9533081054688, 590.7328491210938, 511.72735595703125, 455.58489990234375, 436.16253662109375, 390.3295593261719, 358.2389221191406, 340.66595458984375, 333.871337890625, 326.4100341796875, 329.8031921386719, 300.537841796875, 295.8844299316406, 292.6347351074219, 287.2201232910156, 281.2538757324219, 269.23004150390625, 262.9405212402344, 258.64117431640625, 248.37124633789062, 241.85601806640625, 237.5934600830078, 212.14512634277344, 197.67721557617188, 197.16539001464844, 412.42449951171875, 1107.4248046875, 935.3322143554688, 470.14776611328125, 389.753662109375, 346.9686584472656, 8321.7841796875, 7466.65576171875, 5939.978515625, 10596.818359375, 3280.435302734375, 1857.8896484375, 3083.67236328125, 1710.9998779296875, 2818.148681640625, 2847.024169921875, 1522.169677734375, 619.4193725585938, 445.51531982421875, 400.4185485839844, 331.3496398925781, 196.4927215576172, 176.72381591796875, 174.2521209716797, 167.5929718017578, 162.3460235595703, 159.0769805908203, 158.72567749023438, 149.73403930664062, 142.75253295898438, 134.04222106933594, 132.25668334960938, 131.17568969726562, 130.66307067871094, 124.117919921875, 113.47567749023438, 111.01439666748047, 106.91243743896484, 98.89381408691406, 95.21344757080078, 90.37629699707031, 89.86431121826172, 85.50165557861328, 85.19035339355469, 84.98350524902344, 79.8277816772461, 385.6386413574219, 270.8316955566406, 197.35923767089844, 140.17657470703125, 284.8985595703125, 2847.849853515625, 204.1898651123047, 305.29425048828125, 525.0287475585938, 449.6537170410156, 399.7531433105469, 379.20269775390625, 1675.347412109375, 523.4241943359375, 712.0071411132812, 258.33441162109375, 1084.705810546875, 1101.745361328125, 1959.644287109375, 7466.65576171875, 914.2349243164062, 5939.978515625, 705.3276977539062, 563.5892333984375, 556.9166870117188, 365.6184997558594, 233.172607421875, 194.90658569335938, 189.4325714111328, 171.1599884033203, 159.177978515625, 128.70314025878906, 125.26331329345703, 126.36203002929688, 117.9911117553711, 113.82447052001953, 103.26575469970703, 102.45576477050781, 97.28112030029297, 91.62107849121094, 82.94193267822266, 82.08260345458984, 80.13590240478516, 75.77249908447266, 73.36703491210938, 72.89897918701172, 72.77914428710938, 72.20256042480469, 71.68276977539062, 71.70616149902344, 67.90552520751953, 67.04171752929688, 66.59228515625, 658.4586181640625, 164.10267639160156, 596.1632690429688, 103.63697814941406, 354.8092346191406, 431.9550476074219, 565.5753784179688, 312.4134826660156, 414.324462890625, 336.82232666015625, 733.728515625, 497.2569885253906, 155.10787963867188, 388.1814880371094], \"loglift\": [30.0, 29.0, 28.0, 27.0, 26.0, 25.0, 24.0, 23.0, 22.0, 21.0, 20.0, 19.0, 18.0, 17.0, 16.0, 15.0, 14.0, 13.0, 12.0, 11.0, 10.0, 9.0, 8.0, 7.0, 6.0, 5.0, 4.0, 3.0, 2.0, 1.0, 1.2074999809265137, 1.2073999643325806, 1.2071000337600708, 1.2070000171661377, 1.2069000005722046, 1.2065999507904053, 1.2062000036239624, 1.2060999870300293, 1.2057000398635864, 1.2056000232696533, 1.2055000066757202, 1.205299973487854, 1.205299973487854, 1.205199956893921, 1.2051000595092773, 1.2051000595092773, 1.2050000429153442, 1.2050000429153442, 1.2050000429153442, 1.2049000263214111, 1.204800009727478, 1.204699993133545, 1.2045999765396118, 1.2045999765396118, 1.204300045967102, 1.204200029373169, 1.204200029373169, 1.2041000127792358, 1.2038999795913696, 1.2038999795913696, 1.1863000392913818, 1.097499966621399, 1.117799997329712, 1.1520999670028687, 1.1653000116348267, 1.0561000108718872, 1.063599944114685, 1.1216000318527222, 1.1359000205993652, 0.9763000011444092, 0.9663000106811523, 0.46790000796318054, 0.770799994468689, 0.7537000179290771, 0.7789999842643738, 0.7541000247001648, 1.0372999906539917, 0.4083000123500824, 0.6621999740600586, 0.8906999826431274, 0.2754000127315521, 0.7243000268936157, 0.35260000824928284, 0.8835999965667725, 0.5002999901771545, 0.8575999736785889, 0.7210999727249146, 0.5138000249862671, 0.5928999781608582, 0.6273999810218811, 0.49059998989105225, 0.04179999977350235, 0.24230000376701355, 0.31279999017715454, -0.27399998903274536, -0.14949999749660492, 0.17139999568462372, 0.1606999933719635, -0.17730000615119934, 0.36399999260902405, 0.46309998631477356, -0.3212999999523163, 0.05290000140666962, -0.04340000078082085, 1.4557000398635864, 1.4557000398635864, 1.4557000398635864, 1.4556000232696533, 1.4556000232696533, 1.4556000232696533, 1.4555000066757202, 1.4555000066757202, 1.455399990081787, 1.455399990081787, 1.455199956893921, 1.4551000595092773, 1.454800009727478, 1.454800009727478, 1.454800009727478, 1.454699993133545, 1.454699993133545, 1.454699993133545, 1.4543999433517456, 1.454200029373169, 1.4541000127792358, 1.4539999961853027, 1.4539999961853027, 1.4538999795913696, 1.4536999464035034, 1.4536999464035034, 1.4536999464035034, 1.4536999464035034, 1.4536999464035034, 1.4535000324249268, 1.4139000177383423, 1.378499984741211, 1.3966000080108643, 1.2390999794006348, 1.3420000076293945, 1.2968000173568726, 1.3388999700546265, 0.8626999855041504, 0.8515999913215637, 1.135699987411499, 0.8246999979019165, 0.4796000123023987, 0.6273999810218811, 0.4675000011920929, 0.6420999765396118, 0.3231000006198883, 0.8819000124931335, 0.30570000410079956, -0.07159999758005142, 0.19859999418258667, 0.17669999599456787, 0.5224999785423279, 0.14970000088214874, 0.24979999661445618, -0.26440000534057617, 0.28110000491142273, -0.1737000048160553, 1.6292999982833862, 1.628999948501587, 1.628499984741211, 1.628499984741211, 1.6283999681472778, 1.6282999515533447, 1.628000020980835, 1.6279000043869019, 1.6277999877929688, 1.6276999711990356, 1.6275999546051025, 1.6270999908447266, 1.6269999742507935, 1.6269999742507935, 1.6267999410629272, 1.6267000436782837, 1.6265000104904175, 1.6262999773025513, 1.6261999607086182, 1.6261999607086182, 1.6261999607086182, 1.626099944114685, 1.626099944114685, 1.6260000467300415, 1.6256999969482422, 1.6253000497817993, 1.6252000331878662, 1.6252000331878662, 1.6247999668121338, 1.6246999502182007, 1.5776000022888184, 1.5477999448776245, 1.5290000438690186, 1.3847999572753906, 1.3044999837875366, 1.531599998474121, 1.1964000463485718, 1.3533999919891357, 1.3098000288009644, 1.2093000411987305, 1.4674999713897705, 1.3942999839782715, 1.4185999631881714, 0.9998000264167786, 1.2847000360488892, 0.48510000109672546, 0.3582000136375427, 0.9811000227928162, 1.001099944114685, 0.9610000252723694, 0.9901000261306763, 1.0354000329971313, 0.3336000144481659, 0.4546000063419342, 0.2718000113964081, 0.8384000062942505, 0.1388999968767166, 0.9150000214576721, 0.3287999927997589, -0.33880001306533813, 0.4352000057697296, 0.012400000356137753, -0.0649000033736229, 0.07959999889135361, 0.5999000072479248, -0.11580000072717667, -0.3612000048160553, -0.21289999783039093, 0.4932999908924103, -0.38029998540878296, 2.2748000621795654, 2.2746999263763428, 2.2746999263763428, 2.2743000984191895, 2.273900032043457, 2.273900032043457, 2.272599935531616, 2.2709999084472656, 2.2709999084472656, 2.2708001136779785, 2.270699977874756, 2.27020001411438, 2.2697999477386475, 2.2695999145507812, 2.2695999145507812, 2.2690999507904053, 2.2683000564575195, 2.2678000926971436, 2.2672998905181885, 2.2671000957489014, 2.2671000957489014, 2.2667999267578125, 2.2664999961853027, 2.2655999660491943, 2.265500068664551, 2.264400005340576, 2.263700008392334, 2.2634999752044678, 2.263400077819824, 2.262399911880493, 2.2216999530792236, 2.1229000091552734, 2.11299991607666, 2.1607000827789307, 2.1535000801086426, 1.86080002784729, 2.0541000366210938, 1.7359999418258667, 1.8143999576568604, 1.3918999433517456, 1.4364999532699585, 1.2265000343322754, 1.6837999820709229, 1.447100043296814, 1.0706000328063965, 1.6718000173568726, 1.2747999429702759, 1.4646999835968018, 1.2217999696731567, 0.758400022983551, 1.2278000116348267, 1.5787999629974365, 0.9437999725341797, 1.5099999904632568, 0.6137999892234802, 0.8529999852180481, -0.19910000264644623, 0.26440000534057617, 0.07850000262260437, 0.06840000301599503, 0.12120000272989273, 0.7207000255584717, 2.3738999366760254, 2.373699903488159, 2.3733999729156494, 2.373300075531006, 2.373199939727783, 2.372999906539917, 2.3729000091552734, 2.3726999759674072, 2.372499942779541, 2.3724000453948975, 2.3722000122070312, 2.3721001148223877, 2.371999979019165, 2.3719000816345215, 2.3719000816345215, 2.3719000816345215, 2.3717000484466553, 2.3715999126434326, 2.3715999126434326, 2.3715999126434326, 2.371500015258789, 2.3714001178741455, 2.371299982070923, 2.371299982070923, 2.3710999488830566, 2.3710999488830566, 2.371000051498413, 2.3705999851226807, 2.3703999519348145, 2.3703999519348145, 2.2871999740600586, 2.161400079727173, 2.157599925994873, 2.195199966430664, 2.2253000736236572, 2.25219988822937, 0.5078999996185303, 0.5321000218391418, 0.3319000005722046, -0.12520000338554382, 0.6180999875068665, 0.9320999979972839, 0.4293000102043152, 0.8080000281333923, 0.3472000062465668, 0.24240000545978546, 3.1465001106262207, 3.1458001136779785, 3.1452999114990234, 3.14520001411438, 3.1447999477386475, 3.143199920654297, 3.1428000926971436, 3.1428000926971436, 3.1426000595092773, 3.1424999237060547, 3.142400026321411, 3.142400026321411, 3.1419999599456787, 3.141900062561035, 3.1414999961853027, 3.141400098800659, 3.141400098800659, 3.141400098800659, 3.1410999298095703, 3.140500068664551, 3.1403000354766846, 3.1401000022888184, 3.1396000385284424, 3.1393001079559326, 3.1387999057769775, 3.1387999057769775, 3.138400077819824, 3.138400077819824, 3.138400077819824, 3.1377999782562256, 2.992300033569336, 2.9667000770568848, 2.983599901199341, 3.0483999252319336, 2.9126999378204346, 2.387700080871582, 2.966599941253662, 2.8190999031066895, 2.631700038909912, 2.6621999740600586, 2.6714000701904297, 2.6475000381469727, 1.8651000261306763, 2.407099962234497, 2.1315999031066895, 2.7291998863220215, 1.6405999660491943, 1.6188000440597534, 1.1330000162124634, -0.046300001442432404, 1.6059000492095947, -0.20649999380111694, 1.7603000402450562, 3.399399995803833, 3.399399995803833, 3.398699998855591, 3.3975000381469727, 3.396899938583374, 3.3968000411987305, 3.396399974822998, 3.3961000442504883, 3.39490008354187, 3.3947999477386475, 3.394700050354004, 3.394399881362915, 3.394200086593628, 3.3935000896453857, 3.393399953842163, 3.3931000232696533, 3.3926000595092773, 3.391700029373169, 3.3915998935699463, 3.391400098800659, 3.390899896621704, 3.390500068664551, 3.390500068664551, 3.390399932861328, 3.3903000354766846, 3.3903000354766846, 3.3903000354766846, 3.389699935913086, 3.3894999027252197, 3.3894999027252197, 3.1168999671936035, 3.1974000930786133, 2.8203001022338867, 3.2695999145507812, 2.84689998626709, 2.3863000869750977, 2.201200008392334, 2.5297999382019043, 2.355600118637085, 2.452899932861328, 1.8460999727249146, 2.1071999073028564, 2.894200086593628, 1.9645999670028687], \"logprob\": [30.0, 29.0, 28.0, 27.0, 26.0, 25.0, 24.0, 23.0, 22.0, 21.0, 20.0, 19.0, 18.0, 17.0, 16.0, 15.0, 14.0, 13.0, 12.0, 11.0, 10.0, 9.0, 8.0, 7.0, 6.0, 5.0, 4.0, 3.0, 2.0, 1.0, -5.409599781036377, -5.598999977111816, -5.918099880218506, -5.975800037384033, -6.083499908447266, -6.282299995422363, -6.532100200653076, -6.612100124359131, -6.768499851226807, -6.803999900817871, -6.86299991607666, -6.92579984664917, -6.933199882507324, -6.97790002822876, -6.994200229644775, -7.0, -7.018199920654297, -7.037899971008301, -7.0395002365112305, -7.047599792480469, -7.08650016784668, -7.133999824523926, -7.150000095367432, -7.154399871826172, -7.238999843597412, -7.24970006942749, -7.254700183868408, -7.283899784088135, -7.32480001449585, -7.324399948120117, -5.131100177764893, -4.547399997711182, -5.543499946594238, -6.486100196838379, -6.754000186920166, -5.783699989318848, -5.8902997970581055, -6.573200225830078, -6.677800178527832, -5.9506001472473145, -5.927199840545654, -3.975399971008301, -5.332900047302246, -5.5177998542785645, -5.61899995803833, -5.593900203704834, -6.48859977722168, -4.7322998046875, -5.473700046539307, -6.105299949645996, -4.600200176239014, -5.712800025939941, -4.9156999588012695, -6.114500045776367, -5.308700084686279, -6.064199924468994, -5.826300144195557, -5.521999835968018, -5.673900127410889, -5.740499973297119, -5.558800220489502, -4.98960018157959, -5.2718000411987305, -5.454899787902832, -5.067399978637695, -5.171599864959717, -5.397600173950195, -5.413099765777588, -5.221099853515625, -5.562300205230713, -5.63040018081665, -5.435500144958496, -5.592299938201904, -5.659299850463867, -4.788300037384033, -4.895599842071533, -4.9542999267578125, -4.997499942779541, -5.036399841308594, -5.1427001953125, -5.160399913787842, -5.196800231933594, -5.3043999671936035, -5.4120001792907715, -5.6072998046875, -5.664299964904785, -5.908199787139893, -5.916999816894531, -5.967899799346924, -6.008699893951416, -6.012199878692627, -6.048900127410889, -6.229300022125244, -6.290500164031982, -6.354300022125244, -6.416999816894531, -6.425000190734863, -6.457300186157227, -6.530700206756592, -6.54640007019043, -6.548799991607666, -6.550300121307373, -6.547599792480469, -6.6178998947143555, -5.235099792480469, -5.457200050354004, -5.784900188446045, -4.892000198364258, -5.695300102233887, -5.613500118255615, -5.920300006866455, -3.8222999572753906, -4.313600063323975, -5.373899936676025, -4.932600021362305, -4.313799858093262, -4.678800106048584, -4.563899993896484, -5.115499973297119, -4.790999889373779, -5.388999938964844, -4.820700168609619, -4.514900207519531, -4.823500156402588, -4.867199897766113, -5.122700214385986, -5.118599891662598, -5.194200038909912, -5.139999866485596, -5.292600154876709, -5.314300060272217, -5.154099941253662, -5.553500175476074, -5.912499904632568, -5.927700042724609, -5.9766998291015625, -6.064700126647949, -6.193299770355225, -6.272500038146973, -6.28249979019165, -6.326700210571289, -6.3541998863220215, -6.565100193023682, -6.5914998054504395, -6.605999946594238, -6.654900074005127, -6.683800220489502, -6.756899833679199, -6.819499969482422, -6.824999809265137, -6.837299823760986, -6.846399784088135, -6.85290002822876, -6.861000061035156, -6.894499778747559, -6.9446001052856445, -7.0355000495910645, -7.054699897766113, -7.067500114440918, -7.149600028991699, -7.159599781036377, -4.991600036621094, -5.481200218200684, -6.083799839019775, -5.3221001625061035, -4.98330020904541, -6.419400215148926, -4.769100189208984, -5.815299987792969, -5.76609992980957, -5.543799877166748, -6.345799922943115, -6.210100173950195, -6.292300224304199, -5.299699783325195, -5.964799880981445, -4.390500068664551, -4.3267998695373535, -5.467700004577637, -5.5100998878479, -5.491199970245361, -5.6107001304626465, -5.742700099945068, -4.831600189208984, -4.9893999099731445, -4.996500015258789, -5.572000026702881, -4.975299835205078, -5.68149995803833, -5.244999885559082, -4.782100200653076, -5.378699779510498, -5.128200054168701, -5.087100028991699, -5.226600170135498, -5.492099761962891, -5.242199897766113, -5.154600143432617, -5.24429988861084, -5.542500019073486, -5.424099922180176, -4.010799884796143, -4.132699966430664, -4.16540002822876, -4.787799835205078, -5.11269998550415, -5.121699810028076, -5.820300102233887, -6.263899803161621, -6.275199890136719, -6.332099914550781, -6.348100185394287, -6.451900005340576, -6.540599822998047, -6.565299987792969, -6.565899848937988, -6.652200222015381, -6.773499965667725, -6.846499919891357, -6.905799865722656, -6.928299903869629, -6.920199871063232, -6.969699859619141, -7.013599872589111, -7.092400074005127, -7.115300178527832, -7.226099967956543, -7.288000106811523, -7.311200141906738, -7.276000022888184, -7.385700225830078, -4.5152997970581055, -4.875699996948242, -4.948400020599365, -5.676300048828125, -6.120100021362305, -4.531400203704834, -5.8231000900268555, -4.3917999267578125, -5.241600036621094, -4.17710018157959, -4.389999866485596, -3.8998000621795654, -5.2621002197265625, -4.655099868774414, -3.973299980163574, -5.4375, -4.817200183868408, -5.195300102233887, -4.887199878692627, -4.355800151824951, -5.011199951171875, -5.460700035095215, -4.73390007019043, -5.473899841308594, -4.900300025939941, -5.112500190734863, -4.642399787902832, -4.9008002281188965, -4.953000068664551, -4.953700065612793, -5.019499778747559, -5.205599784851074, -3.4632999897003174, -3.935499906539917, -4.4008002281188965, -4.5447998046875, -4.644700050354004, -4.829899787902832, -4.957300186157227, -5.101099967956543, -5.21750020980835, -5.261099815368652, -5.372399806976318, -5.4583001136779785, -5.508699893951416, -5.528900146484375, -5.551599979400635, -5.541299819946289, -5.634399890899658, -5.650000095367432, -5.661099910736084, -5.679800033569336, -5.700900077819824, -5.744699954986572, -5.768400192260742, -5.784900188446045, -5.825500011444092, -5.852200031280518, -5.869999885559082, -5.983699798583984, -6.054599761962891, -6.057199954986572, -5.402400016784668, -4.54040002822876, -4.713099956512451, -5.363399982452393, -5.5208001136779785, -5.610199928283691, -4.17710018157959, -4.261300086975098, -4.690199851989746, -4.56850004196167, -4.997799873352051, -5.252299785614014, -5.2484002113342285, -5.458799839019775, -5.420599937438965, -5.515200138092041, -3.2372000217437744, -4.13700008392334, -4.4670000076293945, -4.57390022277832, -4.763700008392334, -5.287799835205078, -5.394199848175049, -5.408299922943115, -5.447500228881836, -5.479400157928467, -5.499800205230713, -5.502099990844727, -5.560800075531006, -5.60860013961792, -5.671899795532227, -5.685400009155273, -5.693699836730957, -5.6975998878479, -5.749300003051758, -5.8394999504089355, -5.861599922180176, -5.899499893188477, -5.978000164031982, -6.016200065612793, -6.06879997253418, -6.07450008392334, -6.12470006942749, -6.128300189971924, -6.130799770355225, -6.193900108337402, -4.764400005340576, -5.143400192260742, -5.44290018081665, -5.720399856567383, -5.146699905395508, -3.3696000576019287, -5.426000118255615, -5.171199798583984, -4.816500186920166, -4.940899848937988, -5.0493998527526855, -5.125999927520752, -4.422699928283691, -5.044099807739258, -5.01200008392334, -5.428199768066406, -5.081900119781494, -5.088099956512451, -4.9980998039245605, -4.839700222015381, -5.287600040435791, -5.228600025177002, -5.3927001953125, -3.9779000282287598, -3.989799976348877, -4.411300182342529, -4.862299919128418, -5.042200088500977, -5.070799827575684, -5.172699928283691, -5.245500087738037, -5.459199905395508, -5.486400127410889, -5.477700233459473, -5.546599864959717, -5.582799911499023, -5.680799961090088, -5.688799858093262, -5.740900039672852, -5.801400184631348, -5.901800155639648, -5.912300109863281, -5.936500072479248, -5.993000030517578, -6.025700092315674, -6.032100200653076, -6.033699989318848, -6.041800022125244, -6.049099922180176, -6.048799991607666, -6.103799819946289, -6.116799831390381, -6.123600006103516, -4.104800224304199, -5.413700103759766, -4.500699996948242, -5.80109977722168, -4.993100166320801, -5.256999969482422, -5.172599792480469, -5.4375, -5.3292999267578125, -5.4390997886657715, -5.267399787902832, -5.395299911499023, -5.7733001708984375, -5.785600185394287]}, \"token.table\": {\"Topic\": [4, 5, 6, 1, 1, 3, 5, 6, 7, 1, 2, 3, 4, 5, 6, 1, 6, 7, 2, 3, 4, 7, 3, 2, 2, 4, 1, 2, 3, 4, 5, 5, 6, 1, 2, 3, 4, 5, 1, 4, 5, 5, 7, 1, 2, 3, 4, 1, 2, 3, 4, 6, 1, 2, 3, 4, 4, 4, 1, 3, 1, 2, 4, 2, 6, 1, 3, 1, 6, 7, 6, 1, 1, 7, 7, 7, 1, 1, 1, 1, 2, 3, 4, 5, 5, 1, 6, 3, 1, 2, 3, 4, 5, 7, 6, 2, 3, 4, 5, 5, 1, 3, 6, 3, 3, 5, 5, 5, 5, 1, 3, 2, 1, 7, 5, 2, 2, 4, 6, 2, 6, 2, 4, 2, 2, 2, 1, 3, 3, 5, 6, 7, 4, 1, 5, 4, 5, 4, 4, 6, 5, 2, 3, 4, 1, 2, 3, 5, 7, 7, 3, 3, 5, 3, 2, 3, 5, 5, 2, 4, 1, 3, 5, 6, 1, 3, 4, 1, 2, 2, 6, 7, 4, 5, 1, 2, 4, 5, 5, 1, 6, 3, 6, 1, 2, 3, 4, 5, 7, 6, 1, 6, 6, 3, 3, 1, 2, 3, 2, 4, 1, 4, 1, 3, 4, 1, 7, 3, 6, 6, 6, 4, 7, 1, 2, 4, 3, 6, 6, 5, 3, 2, 6, 6, 3, 6, 1, 1, 2, 3, 4, 5, 1, 1, 2, 3, 4, 5, 6, 2, 6, 7, 1, 2, 3, 4, 5, 2, 1, 7, 1, 4, 7, 1, 1, 2, 4, 5, 4, 1, 1, 4, 1, 2, 4, 1, 1, 3, 4, 6, 6, 6, 7, 4, 1, 3, 1, 4, 5, 3, 4, 4, 1, 4, 1, 2, 3, 4, 5, 1, 2, 3, 4, 5, 6, 1, 5, 7, 1, 2, 3, 5, 5, 1, 6, 6, 2, 2, 1, 5, 1, 4, 1, 2, 5, 1, 5, 1, 1, 5, 4, 1, 2, 3, 4, 5, 3, 1, 2, 3, 4, 5, 4, 3, 4, 1, 2, 4, 6, 1, 2, 3, 4, 1, 2, 3, 4, 5, 1, 3, 1, 2, 3, 4, 5, 1, 1, 2, 4, 7, 5, 3, 2, 1, 4, 7, 2, 3, 3, 6, 1, 2, 3, 4, 6, 4, 1, 2, 3, 4, 5, 1, 2, 3, 4, 5, 1, 2, 4, 5, 1, 5, 7, 1, 2, 6, 3, 6, 1, 2, 3, 4, 5, 3, 1, 6, 5, 2, 2, 3, 2, 6, 7, 7, 1, 3, 4, 5, 3, 7, 6, 1, 2, 4, 1, 2, 4, 6, 5, 5, 5, 2, 2, 5, 1, 5, 3, 1, 6, 2, 3, 4, 1, 2, 3, 4, 5, 6, 2, 3, 4, 1, 6, 6, 1, 2, 3, 4, 5, 6, 1, 2, 3, 4, 2, 4, 1, 2, 3, 4, 5, 1, 2, 3, 4, 5, 6, 7, 6, 7, 2, 1, 4, 7, 2, 1, 1, 3, 1, 3, 4, 5, 6, 7, 4, 7, 2, 3, 2, 3, 1, 2, 4, 1, 2, 5, 7, 2, 6, 6, 4, 7, 2, 7, 7, 3, 5, 4, 2, 4, 3, 1, 7, 1, 2, 2, 3, 5, 6, 6, 6, 1, 5, 1, 2, 3, 4, 5, 1, 2, 3, 4, 1, 2, 3, 4, 1, 2, 3, 4, 5, 6, 1, 4, 1, 2, 3, 4, 5, 1, 2, 5, 2, 2, 1, 4, 6, 3, 7, 1, 5, 4, 3, 1, 2, 3, 4, 5, 6, 1, 2, 3, 4, 5, 6, 1, 2, 3, 4, 5, 6, 5, 6, 1, 6, 2, 3, 1, 2, 3, 4, 5, 1, 4, 5, 1, 2, 5, 7, 2, 2, 2, 6, 2, 1, 2, 3, 4, 5, 6, 1, 2, 4, 5, 7, 3, 7, 1, 2, 3, 4, 5, 1, 4, 7, 7, 1, 2, 2, 4, 7, 2, 4, 5, 6, 7, 4, 4, 7, 1, 2, 3, 4, 5, 1, 2, 3, 4, 5, 6, 1, 2, 3, 4, 5, 1, 4, 2, 3, 4, 1, 2, 3, 4, 5, 3], \"Freq\": [0.16165129840373993, 0.8359073996543884, 0.9974924325942993, 0.9962629675865173, 0.3816702961921692, 0.3438720405101776, 0.052548810839653015, 0.22125814855098724, 0.9971102476119995, 0.28593766689300537, 0.2752683460712433, 0.16125908493995667, 0.06645459681749344, 0.17284291982650757, 0.038409534841775894, 0.12894251942634583, 0.2643321454524994, 0.5995826721191406, 0.05061335861682892, 0.9490004777908325, 0.9908878803253174, 0.9886434674263, 0.9987961053848267, 0.9985957145690918, 0.996380090713501, 0.997981071472168, 0.635173499584198, 0.2110905945301056, 0.1039605364203453, 0.025990134105086327, 0.023454509675502777, 0.8620829582214355, 0.13598333299160004, 0.6459930539131165, 0.13704387843608856, 0.13704387843608856, 0.03972286358475685, 0.04021940007805824, 0.9979645609855652, 0.9937118887901306, 0.9987594485282898, 0.9999048113822937, 0.9904751181602478, 0.07556749880313873, 0.4028017520904541, 0.4534049928188324, 0.06882040202617645, 0.21255716681480408, 0.34782081842422485, 0.30285680294036865, 0.13675007224082947, 0.9908624887466431, 0.5593928098678589, 0.2916603088378906, 0.10282480716705322, 0.04526878148317337, 0.999652087688446, 0.9995207190513611, 0.9946214556694031, 0.9958670139312744, 0.9580515623092651, 0.039664555341005325, 0.9993377923965454, 0.7485882043838501, 0.2495294064283371, 0.7928121089935303, 0.20583710074424744, 0.26391634345054626, 0.3727239668369293, 0.36346375942230225, 0.9980592131614685, 0.9995396733283997, 0.9980264902114868, 0.9916000962257385, 0.9989544749259949, 0.9927566647529602, 0.9988188743591309, 0.999700129032135, 0.9948484301567078, 0.1576160341501236, 0.16788221895694733, 0.5326334834098816, 0.14191482961177826, 0.9973345994949341, 0.9970108866691589, 0.39029258489608765, 0.606535792350769, 0.9971537590026855, 0.008051157929003239, 0.552405595779419, 0.280348539352417, 0.004446161910891533, 0.1546543389558792, 0.9949710965156555, 0.9958363175392151, 0.40029942989349365, 0.5121581554412842, 0.020401904359459877, 0.06683382391929626, 0.9990973472595215, 0.9944902658462524, 0.9206169843673706, 0.07765748351812363, 0.9970721006393433, 0.9948386549949646, 0.9988353252410889, 0.9978309869766235, 0.9996229410171509, 0.9987161755561829, 0.29041752219200134, 0.7073072195053101, 0.9988783001899719, 0.1828123778104782, 0.8165619373321533, 0.9987438321113586, 0.998778760433197, 0.8047378659248352, 0.06123560294508934, 0.1336977332830429, 0.925052285194397, 0.07433456182479858, 0.9993802905082703, 0.9837170243263245, 0.9979434609413147, 0.9986781477928162, 0.9971286654472351, 0.9982178211212158, 0.998305082321167, 0.1296471357345581, 0.09864455461502075, 0.1972891092300415, 0.5749568343162537, 0.9938308000564575, 0.11240208148956299, 0.8848061561584473, 0.9902347922325134, 0.996423065662384, 0.9877471923828125, 0.9874356985092163, 0.9954280853271484, 0.9965416193008423, 0.14690765738487244, 0.7590228915214539, 0.09361762553453445, 0.4991813898086548, 0.14335228502750397, 0.32103487849235535, 0.036186013370752335, 0.9945367574691772, 0.99771648645401, 0.9985705614089966, 0.9994050860404968, 0.9965741634368896, 0.9958801865577698, 0.9961687922477722, 0.1935141235589981, 0.8050615191459656, 0.9973902106285095, 0.9424168467521667, 0.05689513310790062, 0.9984957575798035, 0.9972732663154602, 0.14262056350708008, 0.8557233810424805, 0.3032335937023163, 0.6568477153778076, 0.038973595947027206, 0.041110578924417496, 0.9583904147148132, 0.9995200634002686, 0.996461808681488, 0.9858253002166748, 0.8014378547668457, 0.1959720253944397, 0.3545795977115631, 0.1945970058441162, 0.413336843252182, 0.03723231330513954, 0.9940893054008484, 0.09274017810821533, 0.9060001373291016, 0.7823949456214905, 0.21692852675914764, 0.634807288646698, 0.17558498680591583, 0.03699616715312004, 0.025251353159546852, 0.1274312436580658, 0.9911057949066162, 0.9884271025657654, 0.162462517619133, 0.8344665765762329, 0.9872555136680603, 0.9994329810142517, 0.9968773722648621, 0.2889687418937683, 0.18366657197475433, 0.5273271203041077, 0.891663670539856, 0.10735327005386353, 0.416562557220459, 0.5833910703659058, 0.26378121972084045, 0.10551249235868454, 0.6305014491081238, 0.6115984320640564, 0.3889290988445282, 0.1616142839193344, 0.8325584530830383, 0.998954713344574, 0.9910373091697693, 0.9902270436286926, 0.9866649508476257, 0.7226057648658752, 0.05829424783587456, 0.21860343217849731, 0.3825165629386902, 0.6160296201705933, 0.9922246932983398, 0.9985052943229675, 0.9922983646392822, 0.3406437337398529, 0.6580617427825928, 0.989630401134491, 0.5215654969215393, 0.4776240885257721, 0.999216616153717, 0.42507657408714294, 0.2706794738769531, 0.25711318850517273, 0.028639910742640495, 0.018303703516721725, 0.993317186832428, 0.2166951596736908, 0.3220894932746887, 0.22518576681613922, 0.21946384012699127, 0.016796642914414406, 0.9909619092941284, 0.20262505114078522, 0.6203828454017639, 0.17260652780532837, 0.09828028082847595, 0.3165148198604584, 0.17451289296150208, 0.35033369064331055, 0.060350820422172546, 0.9985021948814392, 0.9984299540519714, 0.9901520013809204, 0.6909912824630737, 0.09676603972911835, 0.21124979853630066, 0.9991871118545532, 0.2178516685962677, 0.11872339248657227, 0.5532740354537964, 0.1095021590590477, 0.9966109991073608, 0.9957840442657471, 0.10678356885910034, 0.8907997608184814, 0.7283173203468323, 0.09452371299266815, 0.17692899703979492, 0.9954267144203186, 0.9969176054000854, 0.7904254794120789, 0.18035060167312622, 0.026718607172369957, 0.9992315769195557, 0.995904266834259, 0.9983083605766296, 0.9947640299797058, 0.9967089295387268, 0.9974948167800903, 0.33920979499816895, 0.6605315804481506, 0.9985786080360413, 0.998007595539093, 0.9993342161178589, 0.9971928000450134, 0.1487772911787033, 0.8499711751937866, 0.10739488154649734, 0.5633829832077026, 0.11091602593660355, 0.2124423384666443, 0.006455429829657078, 0.37892454862594604, 0.23736609518527985, 0.05382451042532921, 0.07535431534051895, 0.2362896054983139, 0.018300333991646767, 0.9306291341781616, 0.06863046437501907, 0.9932227730751038, 0.28656652569770813, 0.14477579295635223, 0.5328345894813538, 0.03432828187942505, 0.9975209832191467, 0.20709125697612762, 0.7897548079490662, 0.9985530972480774, 0.9997577667236328, 0.9992564916610718, 0.8594197034835815, 0.13995374739170074, 0.9990402460098267, 0.9972115159034729, 0.895359992980957, 0.049585308879613876, 0.05492043495178223, 0.08243933320045471, 0.9165313839912415, 0.9966514706611633, 0.9782128930091858, 0.02090461179614067, 0.9908237457275391, 0.3114621341228485, 0.3721233308315277, 0.15836481750011444, 0.11112724244594574, 0.04689773544669151, 0.9951066374778748, 0.49252617359161377, 0.2588350772857666, 0.11277814209461212, 0.09539921581745148, 0.04030431807041168, 0.9865851998329163, 0.9978165030479431, 0.9867591857910156, 0.236413836479187, 0.31868237257003784, 0.4442501664161682, 0.9860271215438843, 0.33144861459732056, 0.10981731116771698, 0.20965123176574707, 0.348919540643692, 0.4881324768066406, 0.22901783883571625, 0.19186709821224213, 0.0653664842247963, 0.025394175201654434, 0.1481795310974121, 0.8506603240966797, 0.1714893877506256, 0.27795910835266113, 0.4892730414867401, 0.012191188521683216, 0.048764754086732864, 0.9988006353378296, 0.3323187828063965, 0.20608916878700256, 0.22412197291851044, 0.23700253665447235, 0.9975646138191223, 0.9927322268486023, 0.9979159832000732, 0.5569549202919006, 0.14144887030124664, 0.30057886242866516, 0.9990345239639282, 0.9978358745574951, 0.905004620552063, 0.09431809931993484, 0.019690582528710365, 0.10107831656932831, 0.7259261012077332, 0.15227383375167847, 0.9903820157051086, 0.9936752319335938, 0.35072287917137146, 0.30892840027809143, 0.2721025049686432, 0.059038352221250534, 0.00906034093350172, 0.40842416882514954, 0.20226044952869415, 0.20261529088020325, 0.05500064790248871, 0.13164670765399933, 0.4299318790435791, 0.3168356716632843, 0.2112237811088562, 0.04199527949094772, 0.9443273544311523, 0.05297446250915527, 0.9971349835395813, 0.07861268520355225, 0.19653171300888062, 0.7206162810325623, 0.7222382426261902, 0.27755436301231384, 0.3934495449066162, 0.1789861023426056, 0.3182782828807831, 0.06310313940048218, 0.04623686522245407, 0.9968699812889099, 0.8419762849807739, 0.15645524859428406, 0.9975022077560425, 0.999437153339386, 0.9967283606529236, 0.9936023950576782, 0.9997396469116211, 0.994925320148468, 0.9978979229927063, 0.9932212233543396, 0.3026870787143707, 0.14930753409862518, 0.5470085144042969, 0.9985791444778442, 0.9945035576820374, 0.9844616651535034, 0.9950976967811584, 0.865619957447052, 0.026723837479948997, 0.10689534991979599, 0.6511006355285645, 0.24257996678352356, 0.1059621274471283, 0.990993082523346, 0.9989480376243591, 0.9957519769668579, 0.9982104301452637, 0.9989588260650635, 0.9992048740386963, 0.9980451464653015, 0.9971010684967041, 0.9994590282440186, 0.9983733892440796, 0.7853561043739319, 0.21438691020011902, 0.11069416254758835, 0.6481661796569824, 0.24127867817878723, 0.041953783482313156, 0.5463703274726868, 0.2734765112400055, 0.13382479548454285, 0.0007769219228066504, 0.0034961486235260963, 0.7257083058357239, 0.2734445035457611, 0.994726300239563, 0.9964491724967957, 0.9988433122634888, 0.9947283864021301, 0.5793853998184204, 0.11638981103897095, 0.10152062773704529, 0.10357154905796051, 0.025636522099375725, 0.07332045584917068, 0.14378729462623596, 0.13102801144123077, 0.3567691445350647, 0.36756545305252075, 0.14093761146068573, 0.8589904308319092, 0.3148456811904907, 0.393007755279541, 0.18237820267677307, 0.10170488059520721, 0.007533695083111525, 0.12903259694576263, 0.27909693121910095, 0.19553838670253754, 0.35071855783462524, 0.04604246839880943, 0.9941328167915344, 0.995551586151123, 0.9958081245422363, 0.9953486323356628, 0.9967894554138184, 0.9987934827804565, 0.9797536730766296, 0.992599606513977, 0.9980101585388184, 0.9977098107337952, 0.9950693845748901, 0.9986225366592407, 0.6143906116485596, 0.1439252644777298, 0.15088938176631927, 0.08975984156131744, 0.9989448189735413, 0.9876681566238403, 0.9867608547210693, 0.9868108034133911, 0.9994708895683289, 0.998566210269928, 0.18825899064540863, 0.8100090622901917, 0.6160594820976257, 0.0852365791797638, 0.29798153042793274, 0.5406195521354675, 0.24430160224437714, 0.20864993333816528, 0.006428989581763744, 0.8892573714256287, 0.11036882549524307, 0.9914655685424805, 0.43947693705558777, 0.5602492094039917, 0.9981698989868164, 0.9898050427436829, 0.9892944097518921, 0.9973775148391724, 0.9991557002067566, 0.9914698004722595, 0.9994370937347412, 0.9941266179084778, 0.9926362037658691, 0.9943636655807495, 0.9974265098571777, 0.1468285173177719, 0.8531626462936401, 0.060392651706933975, 0.3539290428161621, 0.22190788388252258, 0.36235591769218445, 0.9993229508399963, 0.9932298064231873, 0.9983444213867188, 0.9954312443733215, 0.4770299792289734, 0.21704627573490143, 0.1395701915025711, 0.0841762125492096, 0.08210011571645737, 0.3678710162639618, 0.168070450425148, 0.027268068864941597, 0.43678486347198486, 0.3179869055747986, 0.1983184665441513, 0.051178958266973495, 0.43238693475723267, 0.2572399973869324, 0.28434446454048157, 0.18367069959640503, 0.11010140925645828, 0.12979844212532043, 0.03501696139574051, 0.916498601436615, 0.08043737709522247, 0.22640635073184967, 0.299308180809021, 0.3088059425354004, 0.08958709239959717, 0.07598217576742172, 0.9139056205749512, 0.08584122359752655, 0.9964606165885925, 0.999485969543457, 0.9992682933807373, 0.5339947938919067, 0.46574878692626953, 0.9978685975074768, 0.1157887876033783, 0.8780649900436401, 0.19143511354923248, 0.8081812858581543, 0.9833516478538513, 0.9989765286445618, 0.22714318335056305, 0.3766076862812042, 0.1364734172821045, 0.06013401597738266, 0.15843772888183594, 0.0409822016954422, 0.15901541709899902, 0.4365655183792114, 0.2122441977262497, 0.08856555074453354, 0.066424161195755, 0.03734961152076721, 0.1559523046016693, 0.4429186284542084, 0.212502583861351, 0.03758310154080391, 0.11872045695781708, 0.032665688544511795, 0.1469401717185974, 0.8512396216392517, 0.40188276767730713, 0.5980625152587891, 0.09132639318704605, 0.9069655537605286, 0.2278391569852829, 0.17467668652534485, 0.03164432942867279, 0.4987145960330963, 0.06708597391843796, 0.9943544268608093, 0.9941478967666626, 0.9946021437644958, 0.2848788797855377, 0.1120310127735138, 0.18565139174461365, 0.4193160831928253, 0.9991923570632935, 0.9988563060760498, 0.5316291451454163, 0.46807244420051575, 0.9998013377189636, 0.47475767135620117, 0.24081911146640778, 0.11942661553621292, 0.05209556221961975, 0.09878498315811157, 0.01326962374150753, 0.06999345123767853, 0.08930199593305588, 0.3692758083343506, 0.11826480180025101, 0.3523808419704437, 0.9962109923362732, 0.9833446145057678, 0.25014880299568176, 0.27819162607192993, 0.1340205818414688, 0.2998689115047455, 0.03784920275211334, 0.18072509765625, 0.06530402600765228, 0.7532743811607361, 0.9983540177345276, 0.7043423652648926, 0.294788658618927, 0.03180242329835892, 0.9475250840187073, 0.019642673432826996, 0.03217652067542076, 0.3921513557434082, 0.26344525814056396, 0.036198586225509644, 0.2735004425048828, 0.9993847012519836, 0.999444842338562, 0.9949972629547119, 0.3807975649833679, 0.22825825214385986, 0.18805837631225586, 0.18998576700687408, 0.012941059656441212, 0.15079422295093536, 0.2633223831653595, 0.16960297524929047, 0.2639709711074829, 0.14301130175590515, 0.009404371492564678, 0.4493781626224518, 0.19597512483596802, 0.19843903183937073, 0.11599301546812057, 0.04018058627843857, 0.11304597556591034, 0.8869761228561401, 0.22218424081802368, 0.5515626072883606, 0.2260822057723999, 0.015424011275172234, 0.31759440898895264, 0.522313117980957, 0.08342988044023514, 0.060293860733509064, 0.9970989227294922], \"Term\": [\"adapter\", \"adapter\", \"adapters\", \"adhesive\", \"air\", \"air\", \"air\", \"air\", \"alot\", \"also\", \"also\", \"also\", \"also\", \"also\", \"also\", \"aluminum\", \"aluminum\", \"aluminum\", \"amazon\", \"amazon\", \"anco\", \"answer\", \"app\", \"apply\", \"applying\", \"arm\", \"around\", \"around\", \"around\", \"around\", \"around\", \"automatic\", \"automatic\", \"back\", \"back\", \"back\", \"back\", \"back\", \"bag\", \"ball\", \"batteries\", \"battery\", \"became\", \"best\", \"best\", \"best\", \"best\", \"better\", \"better\", \"better\", \"better\", \"bissell\", \"bit\", \"bit\", \"bit\", \"bit\", \"blade\", \"blades\", \"block\", \"bluetooth\", \"board\", \"board\", \"bosch\", \"bottle\", \"bottle\", \"box\", \"box\", \"brake\", \"brake\", \"brake\", \"brakes\", \"bright\", \"brighter\", \"bristles\", \"brush\", \"brushes\", \"bulb\", \"bulbs\", \"button\", \"buy\", \"buy\", \"buy\", \"buy\", \"cable\", \"cables\", \"cap\", \"cap\", \"caps\", \"car\", \"car\", \"car\", \"car\", \"car\", \"carpet\", \"carpets\", \"cars\", \"cars\", \"cars\", \"cars\", \"cell\", \"center\", \"change\", \"change\", \"changes\", \"changing\", \"charge\", \"charged\", \"charger\", \"charging\", \"check\", \"check\", \"chemical\", \"chrome\", \"chrome\", \"cigarette\", \"clay\", \"clean\", \"clean\", \"clean\", \"cleaner\", \"cleaner\", \"cleaning\", \"clearing\", \"cloth\", \"cloths\", \"coat\", \"code\", \"codes\", \"cold\", \"cold\", \"cold\", \"cold\", \"compact\", \"connect\", \"connect\", \"connecting\", \"connectors\", \"constructed\", \"contour\", \"coolant\", \"cord\", \"cost\", \"cost\", \"cost\", \"could\", \"could\", \"could\", \"could\", \"coverage\", \"cup\", \"customer\", \"data\", \"dead\", \"dealer\", \"detailing\", \"device\", \"device\", \"devices\", \"dirt\", \"dirt\", \"display\", \"dollars\", \"drain\", \"drain\", \"driving\", \"driving\", \"driving\", \"dry\", \"dry\", \"drying\", \"dump\", \"dusting\", \"duty\", \"duty\", \"easy\", \"easy\", \"easy\", \"easy\", \"electrical\", \"empty\", \"empty\", \"engine\", \"engine\", \"enough\", \"enough\", \"enough\", \"enough\", \"enough\", \"excited\", \"exhaust\", \"fill\", \"fill\", \"filling\", \"filter\", \"filters\", \"find\", \"find\", \"find\", \"finish\", \"finish\", \"fit\", \"fit\", \"fits\", \"fits\", \"fits\", \"floor\", \"floor\", \"flow\", \"flow\", \"fluid\", \"flush\", \"frameless\", \"freezing\", \"front\", \"front\", \"front\", \"fuel\", \"fuel\", \"funnel\", \"fuse\", \"fuses\", \"gallon\", \"gallon\", \"gallons\", \"gas\", \"gas\", \"gauge\", \"get\", \"get\", \"get\", \"get\", \"get\", \"glove\", \"good\", \"good\", \"good\", \"good\", \"good\", \"grand\", \"grease\", \"grease\", \"grease\", \"great\", \"great\", \"great\", \"great\", \"great\", \"griot\", \"ground\", \"hair\", \"handle\", \"handle\", \"handle\", \"head\", \"heavy\", \"heavy\", \"heavy\", \"heavy\", \"helmet\", \"hid\", \"hitch\", \"hitch\", \"hold\", \"hold\", \"hold\", \"hole\", \"holes\", \"honda\", \"honda\", \"honda\", \"hose\", \"hoses\", \"ice\", \"icon\", \"indicator\", \"information\", \"install\", \"install\", \"inverter\", \"iphone\", \"jack\", \"jacks\", \"jeep\", \"jeep\", \"job\", \"job\", \"job\", \"job\", \"job\", \"keep\", \"keep\", \"keep\", \"keep\", \"keep\", \"keep\", \"key\", \"key\", \"kids\", \"know\", \"know\", \"know\", \"know\", \"laptop\", \"leak\", \"leak\", \"leaks\", \"leather\", \"leaves\", \"led\", \"led\", \"leds\", \"license\", \"light\", \"light\", \"light\", \"lighter\", \"lighter\", \"lighting\", \"lights\", \"lights\", \"lightweight\", \"like\", \"like\", \"like\", \"like\", \"like\", \"link\", \"little\", \"little\", \"little\", \"little\", \"little\", \"living\", \"local\", \"logo\", \"looks\", \"looks\", \"looks\", \"lube\", \"made\", \"made\", \"made\", \"made\", \"make\", \"make\", \"make\", \"make\", \"make\", \"manual\", \"manual\", \"many\", \"many\", \"many\", \"many\", \"many\", \"mat\", \"material\", \"material\", \"material\", \"material\", \"mats\", \"mechanic\", \"meguiar\", \"metal\", \"metal\", \"metal\", \"microfiber\", \"mileage\", \"miles\", \"miles\", \"money\", \"money\", \"money\", \"money\", \"mother\", \"mothers\", \"much\", \"much\", \"much\", \"much\", \"much\", \"need\", \"need\", \"need\", \"need\", \"need\", \"nice\", \"nice\", \"nice\", \"nice\", \"night\", \"night\", \"nova\", \"nozzle\", \"nozzle\", \"nozzle\", \"oil\", \"oil\", \"one\", \"one\", \"one\", \"one\", \"one\", \"online\", \"open\", \"open\", \"outlet\", \"pad\", \"pads\", \"paid\", \"paint\", \"pan\", \"park\", \"paying\", \"perfectly\", \"perfectly\", \"perfectly\", \"phone\", \"phones\", \"photos\", \"pink\", \"place\", \"place\", \"place\", \"plastic\", \"plastic\", \"plastic\", \"pleasant\", \"plug\", \"plugged\", \"plugs\", \"polish\", \"polishing\", \"port\", \"position\", \"power\", \"powered\", \"pressure\", \"pressure\", \"price\", \"price\", \"price\", \"product\", \"product\", \"product\", \"product\", \"product\", \"product\", \"products\", \"products\", \"profile\", \"psi\", \"pump\", \"purple\", \"put\", \"put\", \"put\", \"put\", \"put\", \"put\", \"quality\", \"quality\", \"quality\", \"quality\", \"rain\", \"rain\", \"really\", \"really\", \"really\", \"really\", \"really\", \"recommend\", \"recommend\", \"recommend\", \"recommend\", \"recommend\", \"refill\", \"resistant\", \"royal\", \"rust\", \"sanding\", \"scanner\", \"scissors\", \"scraper\", \"scratches\", \"screen\", \"screw\", \"service\", \"set\", \"set\", \"set\", \"set\", \"sewer\", \"shade\", \"share\", \"sharp\", \"shine\", \"shipping\", \"shop\", \"shop\", \"side\", \"side\", \"side\", \"small\", \"small\", \"small\", \"small\", \"smell\", \"smell\", \"smoother\", \"snow\", \"snow\", \"soap\", \"sockets\", \"softer\", \"software\", \"solar\", \"speeds\", \"spray\", \"stands\", \"stopped\", \"strips\", \"sunlight\", \"surface\", \"surface\", \"system\", \"system\", \"system\", \"system\", \"tank\", \"tanks\", \"tape\", \"tender\", \"the\", \"the\", \"the\", \"the\", \"the\", \"these\", \"these\", \"these\", \"these\", \"they\", \"they\", \"they\", \"they\", \"this\", \"this\", \"this\", \"this\", \"this\", \"this\", \"tight\", \"tight\", \"time\", \"time\", \"time\", \"time\", \"time\", \"tire\", \"tire\", \"torque\", \"towel\", \"towels\", \"trailer\", \"trailer\", \"transmission\", \"ultra\", \"ultra\", \"unit\", \"unit\", \"universal\", \"usb\", \"use\", \"use\", \"use\", \"use\", \"use\", \"use\", \"used\", \"used\", \"used\", \"used\", \"used\", \"used\", \"using\", \"using\", \"using\", \"using\", \"using\", \"using\", \"vacuum\", \"vacuum\", \"valve\", \"valve\", \"version\", \"version\", \"very\", \"very\", \"very\", \"very\", \"very\", \"view\", \"visibility\", \"voltage\", \"warm\", \"warm\", \"warm\", \"warm\", \"wash\", \"washing\", \"water\", \"water\", \"wax\", \"way\", \"way\", \"way\", \"way\", \"way\", \"way\", \"weather\", \"weather\", \"weather\", \"weather\", \"weather\", \"website\", \"weird\", \"well\", \"well\", \"well\", \"well\", \"well\", \"wheel\", \"wheel\", \"wheel\", \"wheels\", \"white\", \"white\", \"windshield\", \"windshield\", \"windshield\", \"winter\", \"winter\", \"winter\", \"winter\", \"winter\", \"wiper\", \"wipers\", \"wired\", \"work\", \"work\", \"work\", \"work\", \"work\", \"works\", \"works\", \"works\", \"works\", \"works\", \"works\", \"would\", \"would\", \"would\", \"would\", \"would\", \"wrangler\", \"wrangler\", \"year\", \"year\", \"year\", \"years\", \"years\", \"years\", \"years\", \"years\", \"zubie\"]}, \"R\": 30, \"lambda.step\": 0.01, \"plot.opts\": {\"xlab\": \"PC1\", \"ylab\": \"PC2\"}, \"topic.order\": [3, 4, 5, 2, 6, 7, 1]};\n",
       "\n",
       "function LDAvis_load_lib(url, callback){\n",
       "  var s = document.createElement('script');\n",
       "  s.src = url;\n",
       "  s.async = true;\n",
       "  s.onreadystatechange = s.onload = callback;\n",
       "  s.onerror = function(){console.warn(\"failed to load library \" + url);};\n",
       "  document.getElementsByTagName(\"head\")[0].appendChild(s);\n",
       "}\n",
       "\n",
       "if(typeof(LDAvis) !== \"undefined\"){\n",
       "   // already loaded: just create the visualization\n",
       "   !function(LDAvis){\n",
       "       new LDAvis(\"#\" + \"ldavis_el130246912913849116137387\", ldavis_el130246912913849116137387_data);\n",
       "   }(LDAvis);\n",
       "}else if(typeof define === \"function\" && define.amd){\n",
       "   // require.js is available: use it to load d3/LDAvis\n",
       "   require.config({paths: {d3: \"https://cdnjs.cloudflare.com/ajax/libs/d3/3.5.5/d3.min\"}});\n",
       "   require([\"d3\"], function(d3){\n",
       "      window.d3 = d3;\n",
       "      LDAvis_load_lib(\"https://cdn.rawgit.com/bmabey/pyLDAvis/files/ldavis.v1.0.0.js\", function(){\n",
       "        new LDAvis(\"#\" + \"ldavis_el130246912913849116137387\", ldavis_el130246912913849116137387_data);\n",
       "      });\n",
       "    });\n",
       "}else{\n",
       "    // require.js not available: dynamically load d3 & LDAvis\n",
       "    LDAvis_load_lib(\"https://cdnjs.cloudflare.com/ajax/libs/d3/3.5.5/d3.min.js\", function(){\n",
       "         LDAvis_load_lib(\"https://cdn.rawgit.com/bmabey/pyLDAvis/files/ldavis.v1.0.0.js\", function(){\n",
       "                 new LDAvis(\"#\" + \"ldavis_el130246912913849116137387\", ldavis_el130246912913849116137387_data);\n",
       "            })\n",
       "         });\n",
       "}\n",
       "</script>"
      ],
      "text/plain": [
       "PreparedData(topic_coordinates=              x         y  topics  cluster       Freq\n",
       "topic                                                \n",
       "2     -0.147942 -0.035721       1        1  29.875761\n",
       "3     -0.149865  0.013976       2        1  23.312880\n",
       "4     -0.157077 -0.007677       3        1  19.591799\n",
       "1     -0.134366 -0.073014       4        1  10.277308\n",
       "5     -0.029176  0.028714       5        1   9.309188\n",
       "6      0.244409  0.315891       6        1   4.298226\n",
       "0      0.374018 -0.242169       7        1   3.334835, topic_info=     Category         Freq      Term        Total  loglift  logprob\n",
       "892   Default  2847.000000     water  2847.000000  30.0000  30.0000\n",
       "70    Default  2629.000000   battery  2629.000000  29.0000  29.0000\n",
       "7     Default  8321.000000       car  8321.000000  28.0000  28.0000\n",
       "1271  Default  1522.000000      hose  1522.000000  27.0000  27.0000\n",
       "114   Default  1639.000000     power  1639.000000  26.0000  26.0000\n",
       "...       ...          ...       ...          ...      ...      ...\n",
       "1218   Topic7   130.549881     floor   336.822327   2.4529  -5.4391\n",
       "383    Topic7   155.008377    handle   733.728516   1.8461  -5.2674\n",
       "2709   Topic7   136.396820    winter   497.256989   2.1072  -5.3953\n",
       "443    Topic7    93.466354  aluminum   155.107880   2.8942  -5.7733\n",
       "818    Topic7    92.322762  material   388.181488   1.9646  -5.7856\n",
       "\n",
       "[436 rows x 6 columns], token_table=       Topic      Freq      Term\n",
       "term                            \n",
       "4562       4  0.161651   adapter\n",
       "4562       5  0.835907   adapter\n",
       "5878       6  0.997492  adapters\n",
       "3473       1  0.996263  adhesive\n",
       "861        1  0.381670       air\n",
       "...      ...       ...       ...\n",
       "569        2  0.317594     years\n",
       "569        3  0.522313     years\n",
       "569        4  0.083430     years\n",
       "569        5  0.060294     years\n",
       "24299      3  0.997099     zubie\n",
       "\n",
       "[676 rows x 3 columns], R=30, lambda_step=0.01, plot_opts={'xlab': 'PC1', 'ylab': 'PC2'}, topic_order=[3, 4, 5, 2, 6, 7, 1])"
      ]
     },
     "execution_count": 36,
     "metadata": {},
     "output_type": "execute_result"
    }
   ],
   "source": [
    "# Visualize the topics\n",
    "# pyLDAvis.enable_notebook()\n",
    "# vis = pyLDAvis.gensim.prepare(lda_model, doc_term_matrix, dictionary)\n",
    "# vis"
   ]
  },
  {
   "cell_type": "markdown",
   "metadata": {},
   "source": [
    "## save model"
   ]
  },
  {
   "cell_type": "code",
   "execution_count": 40,
   "metadata": {},
   "outputs": [
    {
     "data": {
      "text/plain": [
       "gensim.models.ldamodel.LdaModel"
      ]
     },
     "execution_count": 40,
     "metadata": {},
     "output_type": "execute_result"
    }
   ],
   "source": [
    "lda_model.__class__"
   ]
  },
  {
   "cell_type": "markdown",
   "metadata": {},
   "source": [
    "参考 https://radimrehurek.com/gensim/models/ldamodel.html"
   ]
  },
  {
   "cell_type": "code",
   "execution_count": 41,
   "metadata": {},
   "outputs": [],
   "source": [
    "lda_model.save(\"model/lda.model\")"
   ]
  },
  {
   "cell_type": "code",
   "execution_count": 44,
   "metadata": {
    "colab": {},
    "colab_type": "code",
    "id": "QQk4i7FQC6V_"
   },
   "outputs": [],
   "source": [
    "lda_model2 = gensim.models.ldamodel.LdaModel.load(\"model/lda.model\")"
   ]
  },
  {
   "cell_type": "code",
   "execution_count": 46,
   "metadata": {},
   "outputs": [
    {
     "data": {
      "text/plain": [
       "[(0,\n",
       "  '0.019*\"brush\" + 0.019*\"wheels\" + 0.016*\"wheel\" + 0.012*\"ice\" + 0.011*\"snow\" + 0.008*\"carpet\" + 0.007*\"cold\" + 0.006*\"rust\" + 0.006*\"cup\" + 0.006*\"metal\"'),\n",
       " (1,\n",
       "  '0.020*\"great\" + 0.019*\"well\" + 0.018*\"wiper\" + 0.016*\"blade\" + 0.016*\"blades\" + 0.015*\"easy\" + 0.013*\"good\" + 0.012*\"they\" + 0.012*\"fit\" + 0.011*\"windshield\"'),\n",
       " (2,\n",
       "  '0.019*\"the\" + 0.011*\"light\" + 0.010*\"one\" + 0.009*\"would\" + 0.007*\"get\" + 0.007*\"like\" + 0.006*\"use\" + 0.006*\"lights\" + 0.006*\"this\" + 0.005*\"well\"'),\n",
       " (3,\n",
       "  '0.022*\"car\" + 0.013*\"product\" + 0.013*\"use\" + 0.011*\"the\" + 0.010*\"like\" + 0.009*\"used\" + 0.008*\"wax\" + 0.008*\"good\" + 0.008*\"great\" + 0.008*\"this\"'),\n",
       " (4,\n",
       "  '0.013*\"car\" + 0.012*\"one\" + 0.008*\"price\" + 0.008*\"the\" + 0.008*\"product\" + 0.007*\"good\" + 0.007*\"oil\" + 0.007*\"time\" + 0.007*\"amazon\" + 0.007*\"get\"'),\n",
       " (5,\n",
       "  '0.031*\"battery\" + 0.020*\"power\" + 0.015*\"car\" + 0.014*\"use\" + 0.012*\"plug\" + 0.011*\"unit\" + 0.011*\"charge\" + 0.010*\"the\" + 0.010*\"charger\" + 0.009*\"this\"'),\n",
       " (6,\n",
       "  '0.039*\"hose\" + 0.034*\"water\" + 0.016*\"tank\" + 0.012*\"oil\" + 0.011*\"pump\" + 0.010*\"fluid\" + 0.009*\"sewer\" + 0.009*\"drain\" + 0.008*\"valve\" + 0.008*\"use\"')]"
      ]
     },
     "execution_count": 46,
     "metadata": {},
     "output_type": "execute_result"
    }
   ],
   "source": [
    "lda_model2.print_topics()"
   ]
  },
  {
   "cell_type": "markdown",
   "metadata": {},
   "source": [
    "把相关规则进行存储。"
   ]
  }
 ],
 "metadata": {
  "colab": {
   "collapsed_sections": [],
   "name": "Mining Online Reviews using Topic Modeling (LDA)",
   "provenance": [],
   "version": "0.3.2"
  },
  "kernelspec": {
   "display_name": "Python 3",
   "language": "python",
   "name": "python3"
  },
  "language_info": {
   "codemirror_mode": {
    "name": "ipython",
    "version": 3
   },
   "file_extension": ".py",
   "mimetype": "text/x-python",
   "name": "python",
   "nbconvert_exporter": "python",
   "pygments_lexer": "ipython3",
   "version": "3.7.3"
  }
 },
 "nbformat": 4,
 "nbformat_minor": 1
}
